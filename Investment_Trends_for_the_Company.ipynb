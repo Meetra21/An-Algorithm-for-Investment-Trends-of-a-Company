{
  "cells": [
    {
      "cell_type": "markdown",
      "metadata": {
        "id": "view-in-github",
        "colab_type": "text"
      },
      "source": [
        "<a href=\"https://colab.research.google.com/github/Meetra21/Investment_Trends_for_Company/blob/main/Investment_Trends_for_the_Company.ipynb\" target=\"_parent\"><img src=\"https://colab.research.google.com/assets/colab-badge.svg\" alt=\"Open In Colab\"/></a>"
      ]
    },
    {
      "cell_type": "markdown",
      "metadata": {
        "id": "h8rAOyJXgDW2"
      },
      "source": [
        "\n",
        "# Project statement:\n",
        "Company A is seeking to grasp the current global investment patterns to invest in select companies, allocating 1 to 6 million dollars per investment round. Its investment focus is limited to countries where English is an official language, including China.\n",
        "\n",
        "## Business goal:\n",
        "\n",
        "Company A aims to determine the optimal countries, industries, and investment opportunities that align with the investments of other investors.\n",
        "\n",
        "The goals are divided into three sub-goals:\n",
        "\n",
        "Investment type analysis:\n",
        "\n",
        "Company A needs to evaluate the various investment amounts typically associated with venture, seed, angel, private equity, etc., to determine the most appropriate option for their strategy.\n",
        "\n",
        "Country analysis:\n",
        "\n",
        "Company A's preferred countries are likely to be those that have received the highest levels of investment in the past.\n",
        "\n",
        "Sector analysis:\n",
        "\n",
        "To comprehend how investments are spread among the eight major sectors outlined in the mapping file, it is necessary to map each sub-sector listed in the two files, companies and rounds2, to its corresponding main sector.\n",
        "\n",
        "\n",
        "The data utilized in our analysis is actual investment data sourced from crunchbase.com. To perform the complete analysis, we will be relying on three primary data tables.\n"
      ]
    },
    {
      "cell_type": "markdown",
      "metadata": {
        "id": "bTs6W560gDW-"
      },
      "source": [
        "#  Part 1: Data Cleaning\n",
        "reading data files and\n",
        "using encoding = \"ISO-8859-1\" to avoid pandas encoding error"
      ]
    },
    {
      "cell_type": "code",
      "execution_count": null,
      "metadata": {
        "id": "8ZvzBX1ggDW_"
      },
      "outputs": [],
      "source": [
        "import numpy as np\n",
        "import pandas as pd\n",
        "import matplotlib.pyplot as plt\n",
        "import seaborn as sns\n",
        "\n",
        "\n",
        "rounds = pd.read_csv(\"rounds.csv\", encoding = \"ISO-8859-1\")\n",
        "company = pd.read_csv(\"company.txt\", sep=\"\\t\", encoding = \"ISO-8859-1\")\n"
      ]
    },
    {
      "cell_type": "code",
      "execution_count": null,
      "metadata": {
        "id": "DJ7-dKwRgDXA",
        "outputId": "035eb39a-79e2-49fb-9851-c4ecb5131944"
      },
      "outputs": [
        {
          "data": {
            "text/html": [
              "<div>\n",
              "<style scoped>\n",
              "    .dataframe tbody tr th:only-of-type {\n",
              "        vertical-align: middle;\n",
              "    }\n",
              "\n",
              "    .dataframe tbody tr th {\n",
              "        vertical-align: top;\n",
              "    }\n",
              "\n",
              "    .dataframe thead th {\n",
              "        text-align: right;\n",
              "    }\n",
              "</style>\n",
              "<table border=\"1\" class=\"dataframe\">\n",
              "  <thead>\n",
              "    <tr style=\"text-align: right;\">\n",
              "      <th></th>\n",
              "      <th>company_permalink</th>\n",
              "      <th>funding_round_permalink</th>\n",
              "      <th>funding_round_type</th>\n",
              "      <th>funding_round_code</th>\n",
              "      <th>funded_at</th>\n",
              "      <th>raised_amount_usd</th>\n",
              "    </tr>\n",
              "  </thead>\n",
              "  <tbody>\n",
              "    <tr>\n",
              "      <th>0</th>\n",
              "      <td>/organization/-fame</td>\n",
              "      <td>/funding-round/9a01d05418af9f794eebff7ace91f638</td>\n",
              "      <td>venture</td>\n",
              "      <td>B</td>\n",
              "      <td>05-01-2015</td>\n",
              "      <td>10000000.0</td>\n",
              "    </tr>\n",
              "    <tr>\n",
              "      <th>1</th>\n",
              "      <td>/ORGANIZATION/-QOUNTER</td>\n",
              "      <td>/funding-round/22dacff496eb7acb2b901dec1dfe5633</td>\n",
              "      <td>venture</td>\n",
              "      <td>A</td>\n",
              "      <td>14-10-2014</td>\n",
              "      <td>NaN</td>\n",
              "    </tr>\n",
              "  </tbody>\n",
              "</table>\n",
              "</div>"
            ],
            "text/plain": [
              "        company_permalink                          funding_round_permalink  \\\n",
              "0     /organization/-fame  /funding-round/9a01d05418af9f794eebff7ace91f638   \n",
              "1  /ORGANIZATION/-QOUNTER  /funding-round/22dacff496eb7acb2b901dec1dfe5633   \n",
              "\n",
              "  funding_round_type funding_round_code   funded_at  raised_amount_usd  \n",
              "0            venture                  B  05-01-2015         10000000.0  \n",
              "1            venture                  A  14-10-2014                NaN  "
            ]
          },
          "execution_count": 2,
          "metadata": {},
          "output_type": "execute_result"
        }
      ],
      "source": [
        "rounds.head(2)"
      ]
    },
    {
      "cell_type": "code",
      "execution_count": null,
      "metadata": {
        "id": "VR0s7A1sgDXB",
        "outputId": "f5203569-2911-448b-8e2c-e84d48f17a6e"
      },
      "outputs": [
        {
          "data": {
            "text/html": [
              "<div>\n",
              "<style scoped>\n",
              "    .dataframe tbody tr th:only-of-type {\n",
              "        vertical-align: middle;\n",
              "    }\n",
              "\n",
              "    .dataframe tbody tr th {\n",
              "        vertical-align: top;\n",
              "    }\n",
              "\n",
              "    .dataframe thead th {\n",
              "        text-align: right;\n",
              "    }\n",
              "</style>\n",
              "<table border=\"1\" class=\"dataframe\">\n",
              "  <thead>\n",
              "    <tr style=\"text-align: right;\">\n",
              "      <th></th>\n",
              "      <th>permalink</th>\n",
              "      <th>name</th>\n",
              "      <th>homepage_url</th>\n",
              "      <th>category_list</th>\n",
              "      <th>status</th>\n",
              "      <th>country_code</th>\n",
              "      <th>state_code</th>\n",
              "      <th>region</th>\n",
              "      <th>city</th>\n",
              "      <th>founded_at</th>\n",
              "    </tr>\n",
              "  </thead>\n",
              "  <tbody>\n",
              "    <tr>\n",
              "      <th>66366</th>\n",
              "      <td>/Organization/ÃAsys-2</td>\n",
              "      <td>Ãasys</td>\n",
              "      <td>http://www.oasys.io/</td>\n",
              "      <td>Consumer Electronics|Internet of Things|Teleco...</td>\n",
              "      <td>operating</td>\n",
              "      <td>USA</td>\n",
              "      <td>CA</td>\n",
              "      <td>SF Bay Area</td>\n",
              "      <td>San Francisco</td>\n",
              "      <td>01-01-2014</td>\n",
              "    </tr>\n",
              "    <tr>\n",
              "      <th>66367</th>\n",
              "      <td>/Organization/Ä°Novatiff-Reklam-Ve-Tanä±Tä±M-H...</td>\n",
              "      <td>Ä°novatiff Reklam ve TanÄ±tÄ±m Hizmetleri Tic</td>\n",
              "      <td>http://inovatiff.com</td>\n",
              "      <td>Consumer Goods|E-Commerce|Internet</td>\n",
              "      <td>operating</td>\n",
              "      <td>NaN</td>\n",
              "      <td>NaN</td>\n",
              "      <td>NaN</td>\n",
              "      <td>NaN</td>\n",
              "      <td>NaN</td>\n",
              "    </tr>\n",
              "  </tbody>\n",
              "</table>\n",
              "</div>"
            ],
            "text/plain": [
              "                                               permalink  \\\n",
              "66366                             /Organization/ÃAsys-2   \n",
              "66367  /Organization/Ä°Novatiff-Reklam-Ve-Tanä±Tä±M-H...   \n",
              "\n",
              "                                                name          homepage_url  \\\n",
              "66366                                         Ãasys  http://www.oasys.io/   \n",
              "66367  Ä°novatiff Reklam ve TanÄ±tÄ±m Hizmetleri Tic  http://inovatiff.com   \n",
              "\n",
              "                                           category_list     status  \\\n",
              "66366  Consumer Electronics|Internet of Things|Teleco...  operating   \n",
              "66367                 Consumer Goods|E-Commerce|Internet  operating   \n",
              "\n",
              "      country_code state_code       region           city  founded_at  \n",
              "66366          USA         CA  SF Bay Area  San Francisco  01-01-2014  \n",
              "66367          NaN        NaN          NaN            NaN         NaN  "
            ]
          },
          "execution_count": 3,
          "metadata": {},
          "output_type": "execute_result"
        }
      ],
      "source": [
        "company.tail(2)"
      ]
    },
    {
      "cell_type": "markdown",
      "metadata": {
        "id": "Hictty4IgDXC"
      },
      "source": [
        "\"permalinks and \"name\" have weird non-English characters. This is likely because of encoding."
      ]
    },
    {
      "cell_type": "markdown",
      "metadata": {
        "id": "XqIHM1SagDXC"
      },
      "source": [
        "list of various encoding types python can handle: https://docs.python.org/2/library/codecs.html#standard-encodings."
      ]
    },
    {
      "cell_type": "code",
      "execution_count": null,
      "metadata": {
        "id": "yFkAXR4OgDXD"
      },
      "outputs": [],
      "source": [
        "# let's convert all the entries to uppercase for uniformity.\n",
        "company['permalink'] = company['permalink'].str.upper()\n",
        "rounds['company_permalink'] = rounds['company_permalink'].str.upper()"
      ]
    },
    {
      "cell_type": "code",
      "execution_count": null,
      "metadata": {
        "id": "FMeAuhdggDXE",
        "outputId": "001bbbc9-fdba-4aa4-a8d4-d1fc95ab9c1c"
      },
      "outputs": [
        {
          "data": {
            "text/html": [
              "<div>\n",
              "<style scoped>\n",
              "    .dataframe tbody tr th:only-of-type {\n",
              "        vertical-align: middle;\n",
              "    }\n",
              "\n",
              "    .dataframe tbody tr th {\n",
              "        vertical-align: top;\n",
              "    }\n",
              "\n",
              "    .dataframe thead th {\n",
              "        text-align: right;\n",
              "    }\n",
              "</style>\n",
              "<table border=\"1\" class=\"dataframe\">\n",
              "  <thead>\n",
              "    <tr style=\"text-align: right;\">\n",
              "      <th></th>\n",
              "      <th>company_permalink</th>\n",
              "      <th>funding_round_permalink</th>\n",
              "      <th>funding_round_type</th>\n",
              "      <th>funding_round_code</th>\n",
              "      <th>funded_at</th>\n",
              "      <th>raised_amount_usd</th>\n",
              "    </tr>\n",
              "  </thead>\n",
              "  <tbody>\n",
              "    <tr>\n",
              "      <th>29597</th>\n",
              "      <td>/ORGANIZATION/E-CÃBICA</td>\n",
              "      <td>/funding-round/8491f74869e4fe8ba9c378394f8fbdea</td>\n",
              "      <td>seed</td>\n",
              "      <td>NaN</td>\n",
              "      <td>01-02-2015</td>\n",
              "      <td>NaN</td>\n",
              "    </tr>\n",
              "    <tr>\n",
              "      <th>31863</th>\n",
              "      <td>/ORGANIZATION/ENERGYSTONE-GAMES-ÇΜÇ³Æ¸¸Æ</td>\n",
              "      <td>/funding-round/b89553f3d2279c5683ae93f45a21cfe0</td>\n",
              "      <td>seed</td>\n",
              "      <td>NaN</td>\n",
              "      <td>09-08-2014</td>\n",
              "      <td>NaN</td>\n",
              "    </tr>\n",
              "    <tr>\n",
              "      <th>45176</th>\n",
              "      <td>/ORGANIZATION/HUIZUCHE-COM-Æ Ç§ŸÈ½¦</td>\n",
              "      <td>/funding-round/8f8a32dbeeb0f831a78702f83af78a36</td>\n",
              "      <td>seed</td>\n",
              "      <td>NaN</td>\n",
              "      <td>18-09-2014</td>\n",
              "      <td>NaN</td>\n",
              "    </tr>\n",
              "    <tr>\n",
              "      <th>58473</th>\n",
              "      <td>/ORGANIZATION/MAGNET-TECH-Ç£Ç³Ç§Æ</td>\n",
              "      <td>/funding-round/8fc91fbb32bc95e97f151dd0cb4166bf</td>\n",
              "      <td>seed</td>\n",
              "      <td>NaN</td>\n",
              "      <td>16-08-2014</td>\n",
              "      <td>1625585.0</td>\n",
              "    </tr>\n",
              "    <tr>\n",
              "      <th>101036</th>\n",
              "      <td>/ORGANIZATION/TIPCAT-INTERACTIVE-Æ²ÈŸÄ¿¡Æ¯Ç...</td>\n",
              "      <td>/funding-round/41005928a1439cb2d706a43cb661f60f</td>\n",
              "      <td>seed</td>\n",
              "      <td>NaN</td>\n",
              "      <td>06-09-2010</td>\n",
              "      <td>NaN</td>\n",
              "    </tr>\n",
              "    <tr>\n",
              "      <th>109969</th>\n",
              "      <td>/ORGANIZATION/WEICHE-TECH-ÅÈ½¦Ç§Æ</td>\n",
              "      <td>/funding-round/f74e457f838b81fa0b29649740f186d8</td>\n",
              "      <td>venture</td>\n",
              "      <td>A</td>\n",
              "      <td>06-09-2015</td>\n",
              "      <td>NaN</td>\n",
              "    </tr>\n",
              "    <tr>\n",
              "      <th>113839</th>\n",
              "      <td>/ORGANIZATION/ZENGAME-Ç¦",
              "Æ¸¸Ç§Æ</td>\n",
              "      <td>/funding-round/6ba28fb4f3eadf5a9c6c81bc5dde6cdf</td>\n",
              "      <td>seed</td>\n",
              "      <td>NaN</td>\n",
              "      <td>17-07-2010</td>\n",
              "      <td>NaN</td>\n",
              "    </tr>\n",
              "  </tbody>\n",
              "</table>\n",
              "</div>"
            ],
            "text/plain": [
              "                                        company_permalink  \\\n",
              "29597                             /ORGANIZATION/E-CÃBICA   \n",
              "31863        /ORGANIZATION/ENERGYSTONE-GAMES-ÇΜÇ³Æ¸¸Æ   \n",
              "45176                /ORGANIZATION/HUIZUCHE-COM-Æ Ç§ŸÈ½¦   \n",
              "58473              /ORGANIZATION/MAGNET-TECH-Ç£Ç³Ç§Æ   \n",
              "101036  /ORGANIZATION/TIPCAT-INTERACTIVE-Æ²ÈŸÄ¿¡Æ¯Ç...   \n",
              "109969             /ORGANIZATION/WEICHE-TECH-ÅÈ½¦Ç§Æ   \n",
              "113839                 /ORGANIZATION/ZENGAME-Ç¦\n",
              "Æ¸¸Ç§Æ   \n",
              "\n",
              "                                funding_round_permalink funding_round_type  \\\n",
              "29597   /funding-round/8491f74869e4fe8ba9c378394f8fbdea               seed   \n",
              "31863   /funding-round/b89553f3d2279c5683ae93f45a21cfe0               seed   \n",
              "45176   /funding-round/8f8a32dbeeb0f831a78702f83af78a36               seed   \n",
              "58473   /funding-round/8fc91fbb32bc95e97f151dd0cb4166bf               seed   \n",
              "101036  /funding-round/41005928a1439cb2d706a43cb661f60f               seed   \n",
              "109969  /funding-round/f74e457f838b81fa0b29649740f186d8            venture   \n",
              "113839  /funding-round/6ba28fb4f3eadf5a9c6c81bc5dde6cdf               seed   \n",
              "\n",
              "       funding_round_code   funded_at  raised_amount_usd  \n",
              "29597                 NaN  01-02-2015                NaN  \n",
              "31863                 NaN  09-08-2014                NaN  \n",
              "45176                 NaN  18-09-2014                NaN  \n",
              "58473                 NaN  16-08-2014          1625585.0  \n",
              "101036                NaN  06-09-2010                NaN  \n",
              "109969                  A  06-09-2015                NaN  \n",
              "113839                NaN  17-07-2010                NaN  "
            ]
          },
          "execution_count": 5,
          "metadata": {},
          "output_type": "execute_result"
        }
      ],
      "source": [
        "# companies present in rounds file but not in (~) companies file\n",
        "rounds.loc[~rounds['company_permalink'].isin(company['permalink']), :]"
      ]
    },
    {
      "cell_type": "code",
      "execution_count": null,
      "metadata": {
        "id": "e2HzsrdugDXE",
        "outputId": "817b560b-0c83-4bbb-f0af-121e533eca0a"
      },
      "outputs": [
        {
          "data": {
            "text/html": [
              "<div>\n",
              "<style scoped>\n",
              "    .dataframe tbody tr th:only-of-type {\n",
              "        vertical-align: middle;\n",
              "    }\n",
              "\n",
              "    .dataframe tbody tr th {\n",
              "        vertical-align: top;\n",
              "    }\n",
              "\n",
              "    .dataframe thead th {\n",
              "        text-align: right;\n",
              "    }\n",
              "</style>\n",
              "<table border=\"1\" class=\"dataframe\">\n",
              "  <thead>\n",
              "    <tr style=\"text-align: right;\">\n",
              "      <th></th>\n",
              "      <th>company_permalink</th>\n",
              "      <th>funding_round_permalink</th>\n",
              "      <th>funding_round_type</th>\n",
              "      <th>funding_round_code</th>\n",
              "      <th>funded_at</th>\n",
              "      <th>raised_amount_usd</th>\n",
              "    </tr>\n",
              "  </thead>\n",
              "  <tbody>\n",
              "    <tr>\n",
              "      <th>114944</th>\n",
              "      <td>/ORGANIZATION/ZZZZAPP-COM</td>\n",
              "      <td>/funding-round/8f6d25b8ee4199e586484d817bceda05</td>\n",
              "      <td>convertible_note</td>\n",
              "      <td>NaN</td>\n",
              "      <td>01-03-2014</td>\n",
              "      <td>41313.0</td>\n",
              "    </tr>\n",
              "    <tr>\n",
              "      <th>114945</th>\n",
              "      <td>/ORGANIZATION/ZZZZAPP-COM</td>\n",
              "      <td>/funding-round/ff1aa06ed5da186c84f101549035d4ae</td>\n",
              "      <td>seed</td>\n",
              "      <td>NaN</td>\n",
              "      <td>01-05-2013</td>\n",
              "      <td>32842.0</td>\n",
              "    </tr>\n",
              "    <tr>\n",
              "      <th>114946</th>\n",
              "      <td>/ORGANIZATION/ERON</td>\n",
              "      <td>/funding-round/59f4dce44723b794f21ded3daed6e4fe</td>\n",
              "      <td>venture</td>\n",
              "      <td>A</td>\n",
              "      <td>01-08-2014</td>\n",
              "      <td>NaN</td>\n",
              "    </tr>\n",
              "    <tr>\n",
              "      <th>114947</th>\n",
              "      <td>/ORGANIZATION/ASYS-2</td>\n",
              "      <td>/funding-round/35f09d0794651719b02bbfd859ba9ff5</td>\n",
              "      <td>seed</td>\n",
              "      <td>NaN</td>\n",
              "      <td>01-01-2015</td>\n",
              "      <td>18192.0</td>\n",
              "    </tr>\n",
              "    <tr>\n",
              "      <th>114948</th>\n",
              "      <td>/ORGANIZATION/NOVATIFF-REKLAM-VE-TANTM-HIZMETL...</td>\n",
              "      <td>/funding-round/af942869878d2cd788ef5189b435ebc4</td>\n",
              "      <td>grant</td>\n",
              "      <td>NaN</td>\n",
              "      <td>01-10-2013</td>\n",
              "      <td>14851.0</td>\n",
              "    </tr>\n",
              "  </tbody>\n",
              "</table>\n",
              "</div>"
            ],
            "text/plain": [
              "                                        company_permalink  \\\n",
              "114944                          /ORGANIZATION/ZZZZAPP-COM   \n",
              "114945                          /ORGANIZATION/ZZZZAPP-COM   \n",
              "114946                                 /ORGANIZATION/ERON   \n",
              "114947                               /ORGANIZATION/ASYS-2   \n",
              "114948  /ORGANIZATION/NOVATIFF-REKLAM-VE-TANTM-HIZMETL...   \n",
              "\n",
              "                                funding_round_permalink funding_round_type  \\\n",
              "114944  /funding-round/8f6d25b8ee4199e586484d817bceda05   convertible_note   \n",
              "114945  /funding-round/ff1aa06ed5da186c84f101549035d4ae               seed   \n",
              "114946  /funding-round/59f4dce44723b794f21ded3daed6e4fe            venture   \n",
              "114947  /funding-round/35f09d0794651719b02bbfd859ba9ff5               seed   \n",
              "114948  /funding-round/af942869878d2cd788ef5189b435ebc4              grant   \n",
              "\n",
              "       funding_round_code   funded_at  raised_amount_usd  \n",
              "114944                NaN  01-03-2014            41313.0  \n",
              "114945                NaN  01-05-2013            32842.0  \n",
              "114946                  A  01-08-2014                NaN  \n",
              "114947                NaN  01-01-2015            18192.0  \n",
              "114948                NaN  01-10-2013            14851.0  "
            ]
          },
          "execution_count": 6,
          "metadata": {},
          "output_type": "execute_result"
        }
      ],
      "source": [
        "rounds['company_permalink'] = rounds['company_permalink'].str.encode('utf-8').str.decode('ascii', 'ignore')\n",
        "rounds.tail(5)"
      ]
    },
    {
      "cell_type": "code",
      "execution_count": null,
      "metadata": {
        "id": "qbw2y9mfgDXF",
        "outputId": "5139eb8c-61aa-49a6-978b-290be6624acb"
      },
      "outputs": [
        {
          "data": {
            "text/html": [
              "<div>\n",
              "<style scoped>\n",
              "    .dataframe tbody tr th:only-of-type {\n",
              "        vertical-align: middle;\n",
              "    }\n",
              "\n",
              "    .dataframe tbody tr th {\n",
              "        vertical-align: top;\n",
              "    }\n",
              "\n",
              "    .dataframe thead th {\n",
              "        text-align: right;\n",
              "    }\n",
              "</style>\n",
              "<table border=\"1\" class=\"dataframe\">\n",
              "  <thead>\n",
              "    <tr style=\"text-align: right;\">\n",
              "      <th></th>\n",
              "      <th>permalink</th>\n",
              "      <th>name</th>\n",
              "      <th>homepage_url</th>\n",
              "      <th>category_list</th>\n",
              "      <th>status</th>\n",
              "      <th>country_code</th>\n",
              "      <th>state_code</th>\n",
              "      <th>region</th>\n",
              "      <th>city</th>\n",
              "      <th>founded_at</th>\n",
              "    </tr>\n",
              "  </thead>\n",
              "  <tbody>\n",
              "    <tr>\n",
              "      <th>66363</th>\n",
              "      <td>/ORGANIZATION/ZZNODE-SCIENCE-AND-TECHNOLOGY-CO...</td>\n",
              "      <td>ZZNode Science and Technology</td>\n",
              "      <td>http://www.zznode.com</td>\n",
              "      <td>Enterprise Software</td>\n",
              "      <td>operating</td>\n",
              "      <td>CHN</td>\n",
              "      <td>22</td>\n",
              "      <td>Beijing</td>\n",
              "      <td>Beijing</td>\n",
              "      <td>NaN</td>\n",
              "    </tr>\n",
              "    <tr>\n",
              "      <th>66364</th>\n",
              "      <td>/ORGANIZATION/ZZZZAPP-COM</td>\n",
              "      <td>Zzzzapp Wireless ltd.</td>\n",
              "      <td>http://www.zzzzapp.com</td>\n",
              "      <td>Advertising|Mobile|Web Development|Wireless</td>\n",
              "      <td>operating</td>\n",
              "      <td>HRV</td>\n",
              "      <td>15</td>\n",
              "      <td>Split</td>\n",
              "      <td>Split</td>\n",
              "      <td>13-05-2012</td>\n",
              "    </tr>\n",
              "    <tr>\n",
              "      <th>66365</th>\n",
              "      <td>/ORGANIZATION/ERON</td>\n",
              "      <td>ERON</td>\n",
              "      <td>http://www.aeron.hu/</td>\n",
              "      <td>NaN</td>\n",
              "      <td>operating</td>\n",
              "      <td>NaN</td>\n",
              "      <td>NaN</td>\n",
              "      <td>NaN</td>\n",
              "      <td>NaN</td>\n",
              "      <td>01-01-2011</td>\n",
              "    </tr>\n",
              "    <tr>\n",
              "      <th>66366</th>\n",
              "      <td>/ORGANIZATION/ASYS-2</td>\n",
              "      <td>asys</td>\n",
              "      <td>http://www.oasys.io/</td>\n",
              "      <td>Consumer Electronics|Internet of Things|Teleco...</td>\n",
              "      <td>operating</td>\n",
              "      <td>USA</td>\n",
              "      <td>CA</td>\n",
              "      <td>SF Bay Area</td>\n",
              "      <td>San Francisco</td>\n",
              "      <td>01-01-2014</td>\n",
              "    </tr>\n",
              "    <tr>\n",
              "      <th>66367</th>\n",
              "      <td>/ORGANIZATION/NOVATIFF-REKLAM-VE-TANTM-HIZMETL...</td>\n",
              "      <td>novatiff Reklam ve Tantm Hizmetleri Tic</td>\n",
              "      <td>http://inovatiff.com</td>\n",
              "      <td>Consumer Goods|E-Commerce|Internet</td>\n",
              "      <td>operating</td>\n",
              "      <td>NaN</td>\n",
              "      <td>NaN</td>\n",
              "      <td>NaN</td>\n",
              "      <td>NaN</td>\n",
              "      <td>NaN</td>\n",
              "    </tr>\n",
              "  </tbody>\n",
              "</table>\n",
              "</div>"
            ],
            "text/plain": [
              "                                               permalink  \\\n",
              "66363  /ORGANIZATION/ZZNODE-SCIENCE-AND-TECHNOLOGY-CO...   \n",
              "66364                          /ORGANIZATION/ZZZZAPP-COM   \n",
              "66365                                 /ORGANIZATION/ERON   \n",
              "66366                               /ORGANIZATION/ASYS-2   \n",
              "66367  /ORGANIZATION/NOVATIFF-REKLAM-VE-TANTM-HIZMETL...   \n",
              "\n",
              "                                          name            homepage_url  \\\n",
              "66363            ZZNode Science and Technology   http://www.zznode.com   \n",
              "66364                    Zzzzapp Wireless ltd.  http://www.zzzzapp.com   \n",
              "66365                                     ERON    http://www.aeron.hu/   \n",
              "66366                                     asys    http://www.oasys.io/   \n",
              "66367  novatiff Reklam ve Tantm Hizmetleri Tic    http://inovatiff.com   \n",
              "\n",
              "                                           category_list     status  \\\n",
              "66363                                Enterprise Software  operating   \n",
              "66364        Advertising|Mobile|Web Development|Wireless  operating   \n",
              "66365                                                NaN  operating   \n",
              "66366  Consumer Electronics|Internet of Things|Teleco...  operating   \n",
              "66367                 Consumer Goods|E-Commerce|Internet  operating   \n",
              "\n",
              "      country_code state_code       region           city  founded_at  \n",
              "66363          CHN         22      Beijing        Beijing         NaN  \n",
              "66364          HRV         15        Split          Split  13-05-2012  \n",
              "66365          NaN        NaN          NaN            NaN  01-01-2011  \n",
              "66366          USA         CA  SF Bay Area  San Francisco  01-01-2014  \n",
              "66367          NaN        NaN          NaN            NaN         NaN  "
            ]
          },
          "execution_count": 7,
          "metadata": {},
          "output_type": "execute_result"
        }
      ],
      "source": [
        "company['permalink'] = company['permalink'].str.encode('utf-8').str.decode('ascii', 'ignore')\n",
        "company['name'] = company['name'].str.encode('utf-8').str.decode('ascii', 'ignore')\n",
        "\n",
        "company.tail(5)"
      ]
    },
    {
      "cell_type": "code",
      "execution_count": null,
      "metadata": {
        "id": "bSTfRKJGgDXF",
        "outputId": "bcb3cd58-17cd-4396-b8a4-4c668c696a52"
      },
      "outputs": [
        {
          "name": "stdout",
          "output_type": "stream",
          "text": [
            "66368\n"
          ]
        },
        {
          "data": {
            "text/plain": [
              "66368"
            ]
          },
          "execution_count": 8,
          "metadata": {},
          "output_type": "execute_result"
        }
      ],
      "source": [
        "#checking the number of unique values in company dataframe.\n",
        "print(len(company['permalink'].unique()))\n",
        "len(rounds['company_permalink'].unique())"
      ]
    },
    {
      "cell_type": "code",
      "execution_count": null,
      "metadata": {
        "id": "ZGGI1gRtgDXG",
        "outputId": "110ee559-f70a-45d6-e30d-2b6490ab58b1"
      },
      "outputs": [
        {
          "data": {
            "text/html": [
              "<div>\n",
              "<style scoped>\n",
              "    .dataframe tbody tr th:only-of-type {\n",
              "        vertical-align: middle;\n",
              "    }\n",
              "\n",
              "    .dataframe tbody tr th {\n",
              "        vertical-align: top;\n",
              "    }\n",
              "\n",
              "    .dataframe thead th {\n",
              "        text-align: right;\n",
              "    }\n",
              "</style>\n",
              "<table border=\"1\" class=\"dataframe\">\n",
              "  <thead>\n",
              "    <tr style=\"text-align: right;\">\n",
              "      <th></th>\n",
              "      <th>company_permalink</th>\n",
              "      <th>funding_round_permalink</th>\n",
              "      <th>funding_round_type</th>\n",
              "      <th>funding_round_code</th>\n",
              "      <th>funded_at</th>\n",
              "      <th>raised_amount_usd</th>\n",
              "    </tr>\n",
              "  </thead>\n",
              "  <tbody>\n",
              "    <tr>\n",
              "      <th>0</th>\n",
              "      <td>/ORGANIZATION/-FAME</td>\n",
              "      <td>/funding-round/9a01d05418af9f794eebff7ace91f638</td>\n",
              "      <td>venture</td>\n",
              "      <td>B</td>\n",
              "      <td>05-01-2015</td>\n",
              "      <td>10000000.0</td>\n",
              "    </tr>\n",
              "    <tr>\n",
              "      <th>1</th>\n",
              "      <td>/ORGANIZATION/-QOUNTER</td>\n",
              "      <td>/funding-round/22dacff496eb7acb2b901dec1dfe5633</td>\n",
              "      <td>venture</td>\n",
              "      <td>A</td>\n",
              "      <td>14-10-2014</td>\n",
              "      <td>NaN</td>\n",
              "    </tr>\n",
              "  </tbody>\n",
              "</table>\n",
              "</div>"
            ],
            "text/plain": [
              "        company_permalink                          funding_round_permalink  \\\n",
              "0     /ORGANIZATION/-FAME  /funding-round/9a01d05418af9f794eebff7ace91f638   \n",
              "1  /ORGANIZATION/-QOUNTER  /funding-round/22dacff496eb7acb2b901dec1dfe5633   \n",
              "\n",
              "  funding_round_type funding_round_code   funded_at  raised_amount_usd  \n",
              "0            venture                  B  05-01-2015         10000000.0  \n",
              "1            venture                  A  14-10-2014                NaN  "
            ]
          },
          "execution_count": 9,
          "metadata": {},
          "output_type": "execute_result"
        }
      ],
      "source": [
        "rounds['company_permalink'] = rounds['company_permalink'].str.encode('utf-8').str.decode('ascii', 'ignore')\n",
        "rounds.head(2)"
      ]
    },
    {
      "cell_type": "code",
      "execution_count": null,
      "metadata": {
        "id": "jPMF8_iwgDXG"
      },
      "outputs": [],
      "source": [
        "company['permalink'] = company['permalink'].str.upper()\n",
        "rounds['company_permalink'] = rounds['company_permalink'].str.upper()"
      ]
    },
    {
      "cell_type": "code",
      "execution_count": null,
      "metadata": {
        "id": "6wze1Pz0gDXG",
        "outputId": "d8bbff34-5672-4418-8b79-0994f80c4cac"
      },
      "outputs": [
        {
          "name": "stdout",
          "output_type": "stream",
          "text": [
            "66368\n"
          ]
        },
        {
          "data": {
            "text/plain": [
              "66368"
            ]
          },
          "execution_count": 11,
          "metadata": {},
          "output_type": "execute_result"
        }
      ],
      "source": [
        "#checking the number of unique values in company dataframe.\n",
        "print(len(company['permalink'].unique()))\n",
        "len(rounds['company_permalink'].unique())"
      ]
    },
    {
      "cell_type": "markdown",
      "metadata": {
        "id": "qPXlKg2WgDXH"
      },
      "source": [
        "there are 66368 unique companies in both the rounds and companies dataframes."
      ]
    },
    {
      "cell_type": "code",
      "execution_count": null,
      "metadata": {
        "id": "7BgPhRy1gDXH",
        "outputId": "c3d0de84-a862-4f61-c751-ee19dfa9b966"
      },
      "outputs": [
        {
          "name": "stdout",
          "output_type": "stream",
          "text": [
            "<class 'pandas.core.frame.DataFrame'>\n",
            "RangeIndex: 66368 entries, 0 to 66367\n",
            "Data columns (total 10 columns):\n",
            " #   Column         Non-Null Count  Dtype \n",
            "---  ------         --------------  ----- \n",
            " 0   permalink      66368 non-null  object\n",
            " 1   name           66367 non-null  object\n",
            " 2   homepage_url   61310 non-null  object\n",
            " 3   category_list  63220 non-null  object\n",
            " 4   status         66368 non-null  object\n",
            " 5   country_code   59410 non-null  object\n",
            " 6   state_code     57821 non-null  object\n",
            " 7   region         58338 non-null  object\n",
            " 8   city           58340 non-null  object\n",
            " 9   founded_at     51147 non-null  object\n",
            "dtypes: object(10)\n",
            "memory usage: 5.1+ MB\n"
          ]
        },
        {
          "data": {
            "text/plain": [
              "(66368, 10)"
            ]
          },
          "execution_count": 12,
          "metadata": {},
          "output_type": "execute_result"
        }
      ],
      "source": [
        "company.info(), \"\\n\"\n",
        "company.shape"
      ]
    },
    {
      "cell_type": "code",
      "execution_count": null,
      "metadata": {
        "id": "j2TxaK25gDXH",
        "outputId": "6ebe76e2-211c-4622-e943-df9d4699cabc"
      },
      "outputs": [
        {
          "data": {
            "text/plain": [
              "founded_at       22.9\n",
              "state_code       12.9\n",
              "city             12.1\n",
              "region           12.1\n",
              "country_code     10.5\n",
              "homepage_url      7.6\n",
              "category_list     4.7\n",
              "status            0.0\n",
              "name              0.0\n",
              "permalink         0.0\n",
              "dtype: float64"
            ]
          },
          "execution_count": 13,
          "metadata": {},
          "output_type": "execute_result"
        }
      ],
      "source": [
        "# percentage of the missing values (column-wise)\n",
        "c=company.isnull().sum()/len(company.index)\n",
        "round(100*c, 1).sort_values(ascending=False)"
      ]
    },
    {
      "cell_type": "markdown",
      "metadata": {
        "id": "HSH3eZcMgDXI"
      },
      "source": [
        "For the business objectives given, the columns founded_at, state_code, region, city and homepage_url need not be used. so, let's drop them"
      ]
    },
    {
      "cell_type": "code",
      "execution_count": null,
      "metadata": {
        "id": "y6nBBOfQgDXI",
        "outputId": "a6c3de07-98b3-43e4-a538-5e4ee9723104"
      },
      "outputs": [
        {
          "data": {
            "text/html": [
              "<div>\n",
              "<style scoped>\n",
              "    .dataframe tbody tr th:only-of-type {\n",
              "        vertical-align: middle;\n",
              "    }\n",
              "\n",
              "    .dataframe tbody tr th {\n",
              "        vertical-align: top;\n",
              "    }\n",
              "\n",
              "    .dataframe thead th {\n",
              "        text-align: right;\n",
              "    }\n",
              "</style>\n",
              "<table border=\"1\" class=\"dataframe\">\n",
              "  <thead>\n",
              "    <tr style=\"text-align: right;\">\n",
              "      <th></th>\n",
              "      <th>permalink</th>\n",
              "      <th>name</th>\n",
              "      <th>category_list</th>\n",
              "      <th>status</th>\n",
              "      <th>country_code</th>\n",
              "    </tr>\n",
              "  </thead>\n",
              "  <tbody>\n",
              "    <tr>\n",
              "      <th>0</th>\n",
              "      <td>/ORGANIZATION/-FAME</td>\n",
              "      <td>#fame</td>\n",
              "      <td>Media</td>\n",
              "      <td>operating</td>\n",
              "      <td>IND</td>\n",
              "    </tr>\n",
              "    <tr>\n",
              "      <th>1</th>\n",
              "      <td>/ORGANIZATION/-QOUNTER</td>\n",
              "      <td>:Qounter</td>\n",
              "      <td>Application Platforms|Real Time|Social Network...</td>\n",
              "      <td>operating</td>\n",
              "      <td>USA</td>\n",
              "    </tr>\n",
              "    <tr>\n",
              "      <th>2</th>\n",
              "      <td>/ORGANIZATION/-THE-ONE-OF-THEM-INC-</td>\n",
              "      <td>(THE) ONE of THEM,Inc.</td>\n",
              "      <td>Apps|Games|Mobile</td>\n",
              "      <td>operating</td>\n",
              "      <td>NaN</td>\n",
              "    </tr>\n",
              "    <tr>\n",
              "      <th>3</th>\n",
              "      <td>/ORGANIZATION/0-6-COM</td>\n",
              "      <td>0-6.com</td>\n",
              "      <td>Curated Web</td>\n",
              "      <td>operating</td>\n",
              "      <td>CHN</td>\n",
              "    </tr>\n",
              "    <tr>\n",
              "      <th>4</th>\n",
              "      <td>/ORGANIZATION/004-TECHNOLOGIES</td>\n",
              "      <td>004 Technologies</td>\n",
              "      <td>Software</td>\n",
              "      <td>operating</td>\n",
              "      <td>USA</td>\n",
              "    </tr>\n",
              "  </tbody>\n",
              "</table>\n",
              "</div>"
            ],
            "text/plain": [
              "                             permalink                    name  \\\n",
              "0                  /ORGANIZATION/-FAME                   #fame   \n",
              "1               /ORGANIZATION/-QOUNTER                :Qounter   \n",
              "2  /ORGANIZATION/-THE-ONE-OF-THEM-INC-  (THE) ONE of THEM,Inc.   \n",
              "3                /ORGANIZATION/0-6-COM                 0-6.com   \n",
              "4       /ORGANIZATION/004-TECHNOLOGIES        004 Technologies   \n",
              "\n",
              "                                       category_list     status country_code  \n",
              "0                                              Media  operating          IND  \n",
              "1  Application Platforms|Real Time|Social Network...  operating          USA  \n",
              "2                                  Apps|Games|Mobile  operating          NaN  \n",
              "3                                        Curated Web  operating          CHN  \n",
              "4                                           Software  operating          USA  "
            ]
          },
          "execution_count": 14,
          "metadata": {},
          "output_type": "execute_result"
        }
      ],
      "source": [
        "# dropping columns\n",
        "\n",
        "company = company.drop(['founded_at', 'state_code', 'city', 'region', 'homepage_url'], axis=1)\n",
        "company.head()"
      ]
    },
    {
      "cell_type": "code",
      "execution_count": null,
      "metadata": {
        "id": "KmPNThTugDXI",
        "outputId": "67b6b077-446d-43b4-d627-e5085e41abb4"
      },
      "outputs": [
        {
          "name": "stdout",
          "output_type": "stream",
          "text": [
            "<class 'pandas.core.frame.DataFrame'>\n",
            "RangeIndex: 114949 entries, 0 to 114948\n",
            "Data columns (total 6 columns):\n",
            " #   Column                   Non-Null Count   Dtype  \n",
            "---  ------                   --------------   -----  \n",
            " 0   company_permalink        114949 non-null  object \n",
            " 1   funding_round_permalink  114949 non-null  object \n",
            " 2   funding_round_type       114949 non-null  object \n",
            " 3   funding_round_code       31140 non-null   object \n",
            " 4   funded_at                114949 non-null  object \n",
            " 5   raised_amount_usd        94959 non-null   float64\n",
            "dtypes: float64(1), object(5)\n",
            "memory usage: 5.3+ MB\n"
          ]
        },
        {
          "data": {
            "text/plain": [
              "(114949, 6)"
            ]
          },
          "execution_count": 15,
          "metadata": {},
          "output_type": "execute_result"
        }
      ],
      "source": [
        "rounds.info(), \"\\n\"\n",
        "rounds.shape\n"
      ]
    },
    {
      "cell_type": "code",
      "execution_count": null,
      "metadata": {
        "id": "2U0QrSkYgDXJ",
        "outputId": "e42e3220-65ab-4ea6-c967-2beed0232525"
      },
      "outputs": [
        {
          "data": {
            "text/plain": [
              "funding_round_code         72.9\n",
              "raised_amount_usd          17.4\n",
              "funded_at                   0.0\n",
              "funding_round_type          0.0\n",
              "funding_round_permalink     0.0\n",
              "company_permalink           0.0\n",
              "dtype: float64"
            ]
          },
          "execution_count": 16,
          "metadata": {},
          "output_type": "execute_result"
        }
      ],
      "source": [
        "# percentage of the missing values (column-wise)\n",
        "c=rounds.isnull().sum()/len(rounds.index)\n",
        "round(100*c, 1).sort_values(ascending=False)"
      ]
    },
    {
      "cell_type": "markdown",
      "metadata": {
        "id": "7DYXiP_mgDXJ"
      },
      "source": [
        "\"funding_round_code\" with 73% of missing data is useless. So, let's it."
      ]
    },
    {
      "cell_type": "code",
      "execution_count": null,
      "metadata": {
        "id": "Ewu2O6yqgDXJ",
        "outputId": "6020926e-d9f5-4c80-83bf-11a66948a8e4"
      },
      "outputs": [
        {
          "data": {
            "text/html": [
              "<div>\n",
              "<style scoped>\n",
              "    .dataframe tbody tr th:only-of-type {\n",
              "        vertical-align: middle;\n",
              "    }\n",
              "\n",
              "    .dataframe tbody tr th {\n",
              "        vertical-align: top;\n",
              "    }\n",
              "\n",
              "    .dataframe thead th {\n",
              "        text-align: right;\n",
              "    }\n",
              "</style>\n",
              "<table border=\"1\" class=\"dataframe\">\n",
              "  <thead>\n",
              "    <tr style=\"text-align: right;\">\n",
              "      <th></th>\n",
              "      <th>company_permalink</th>\n",
              "      <th>funding_round_permalink</th>\n",
              "      <th>funding_round_type</th>\n",
              "      <th>funded_at</th>\n",
              "      <th>raised_amount_usd</th>\n",
              "    </tr>\n",
              "  </thead>\n",
              "  <tbody>\n",
              "    <tr>\n",
              "      <th>0</th>\n",
              "      <td>/ORGANIZATION/-FAME</td>\n",
              "      <td>/funding-round/9a01d05418af9f794eebff7ace91f638</td>\n",
              "      <td>venture</td>\n",
              "      <td>05-01-2015</td>\n",
              "      <td>10000000.0</td>\n",
              "    </tr>\n",
              "    <tr>\n",
              "      <th>1</th>\n",
              "      <td>/ORGANIZATION/-QOUNTER</td>\n",
              "      <td>/funding-round/22dacff496eb7acb2b901dec1dfe5633</td>\n",
              "      <td>venture</td>\n",
              "      <td>14-10-2014</td>\n",
              "      <td>NaN</td>\n",
              "    </tr>\n",
              "    <tr>\n",
              "      <th>2</th>\n",
              "      <td>/ORGANIZATION/-QOUNTER</td>\n",
              "      <td>/funding-round/b44fbb94153f6cdef13083530bb48030</td>\n",
              "      <td>seed</td>\n",
              "      <td>01-03-2014</td>\n",
              "      <td>700000.0</td>\n",
              "    </tr>\n",
              "    <tr>\n",
              "      <th>3</th>\n",
              "      <td>/ORGANIZATION/-THE-ONE-OF-THEM-INC-</td>\n",
              "      <td>/funding-round/650b8f704416801069bb178a1418776b</td>\n",
              "      <td>venture</td>\n",
              "      <td>30-01-2014</td>\n",
              "      <td>3406878.0</td>\n",
              "    </tr>\n",
              "    <tr>\n",
              "      <th>4</th>\n",
              "      <td>/ORGANIZATION/0-6-COM</td>\n",
              "      <td>/funding-round/5727accaeaa57461bd22a9bdd945382d</td>\n",
              "      <td>venture</td>\n",
              "      <td>19-03-2008</td>\n",
              "      <td>2000000.0</td>\n",
              "    </tr>\n",
              "  </tbody>\n",
              "</table>\n",
              "</div>"
            ],
            "text/plain": [
              "                     company_permalink  \\\n",
              "0                  /ORGANIZATION/-FAME   \n",
              "1               /ORGANIZATION/-QOUNTER   \n",
              "2               /ORGANIZATION/-QOUNTER   \n",
              "3  /ORGANIZATION/-THE-ONE-OF-THEM-INC-   \n",
              "4                /ORGANIZATION/0-6-COM   \n",
              "\n",
              "                           funding_round_permalink funding_round_type  \\\n",
              "0  /funding-round/9a01d05418af9f794eebff7ace91f638            venture   \n",
              "1  /funding-round/22dacff496eb7acb2b901dec1dfe5633            venture   \n",
              "2  /funding-round/b44fbb94153f6cdef13083530bb48030               seed   \n",
              "3  /funding-round/650b8f704416801069bb178a1418776b            venture   \n",
              "4  /funding-round/5727accaeaa57461bd22a9bdd945382d            venture   \n",
              "\n",
              "    funded_at  raised_amount_usd  \n",
              "0  05-01-2015         10000000.0  \n",
              "1  14-10-2014                NaN  \n",
              "2  01-03-2014           700000.0  \n",
              "3  30-01-2014          3406878.0  \n",
              "4  19-03-2008          2000000.0  "
            ]
          },
          "execution_count": 17,
          "metadata": {},
          "output_type": "execute_result"
        }
      ],
      "source": [
        "rounds = rounds.drop(['funding_round_code'], axis=1)\n",
        "rounds.head()"
      ]
    },
    {
      "cell_type": "markdown",
      "metadata": {
        "id": "DOm8diowgDXK"
      },
      "source": [
        "funding_round_code and raised_amount_usd contain missing values.\n",
        "permalink feature in company and company_permalink feature in rounds are same.\n"
      ]
    },
    {
      "cell_type": "markdown",
      "metadata": {
        "id": "ed85gtMagDXK"
      },
      "source": [
        " Let's write these dataframes into separate files so we don't have to worry about encoding problems again."
      ]
    },
    {
      "cell_type": "code",
      "execution_count": null,
      "metadata": {
        "id": "e_r_IVtbgDXK"
      },
      "outputs": [],
      "source": [
        "rounds.to_csv(\"rounds_new.csv\", sep=',', index=False)\n",
        "\n",
        "company.to_csv(\"company_new.csv\", sep='\\t', index=False)"
      ]
    },
    {
      "cell_type": "markdown",
      "metadata": {
        "id": "nwQ6Lkv0gDXK"
      },
      "source": [
        "# Missing Value"
      ]
    },
    {
      "cell_type": "code",
      "execution_count": null,
      "metadata": {
        "id": "lbZNqto0gDXK"
      },
      "outputs": [],
      "source": [
        "# read the new, decoded csv files\n",
        "rounds = pd.read_csv(\"rounds_new.csv\", encoding = \"ISO-8859-1\")\n",
        "company = pd.read_csv(\"company_new.csv\", sep=\"\\t\", encoding = \"ISO-8859-1\")"
      ]
    },
    {
      "cell_type": "code",
      "execution_count": null,
      "metadata": {
        "id": "9IAhoOctgDXL",
        "outputId": "4dd4cfcf-3db6-4cc1-e606-f20a50be6a64"
      },
      "outputs": [
        {
          "data": {
            "text/plain": [
              "company_permalink              0\n",
              "funding_round_permalink        0\n",
              "funding_round_type             0\n",
              "funded_at                      0\n",
              "raised_amount_usd          19990\n",
              "dtype: int64"
            ]
          },
          "execution_count": 20,
          "metadata": {},
          "output_type": "execute_result"
        }
      ],
      "source": [
        "# missing values in rounds\n",
        "rounds.isnull().sum()"
      ]
    },
    {
      "cell_type": "code",
      "execution_count": null,
      "metadata": {
        "id": "aJkLAvA5gDXL",
        "outputId": "9a69e863-17d7-4829-f56d-ef8f748137a2"
      },
      "outputs": [
        {
          "data": {
            "text/plain": [
              "permalink           0\n",
              "name                1\n",
              "category_list    3148\n",
              "status              0\n",
              "country_code     6958\n",
              "dtype: int64"
            ]
          },
          "execution_count": 21,
          "metadata": {},
          "output_type": "execute_result"
        }
      ],
      "source": [
        "# missing values in company\n",
        "company.isnull().sum()"
      ]
    },
    {
      "cell_type": "markdown",
      "metadata": {
        "id": "F3zT0L1sgDXL"
      },
      "source": [
        "It's better to merge the two dataframe and then treat missing values.\n",
        "Note that there are no misisng values in the permalink or company_permalink, and these two features represent same information. after merging we remove one of them."
      ]
    },
    {
      "cell_type": "code",
      "execution_count": null,
      "metadata": {
        "id": "kFZ37YUfgDXL",
        "outputId": "1041f01a-5333-4f55-fe71-89bec2cab62e"
      },
      "outputs": [
        {
          "data": {
            "text/html": [
              "<div>\n",
              "<style scoped>\n",
              "    .dataframe tbody tr th:only-of-type {\n",
              "        vertical-align: middle;\n",
              "    }\n",
              "\n",
              "    .dataframe tbody tr th {\n",
              "        vertical-align: top;\n",
              "    }\n",
              "\n",
              "    .dataframe thead th {\n",
              "        text-align: right;\n",
              "    }\n",
              "</style>\n",
              "<table border=\"1\" class=\"dataframe\">\n",
              "  <thead>\n",
              "    <tr style=\"text-align: right;\">\n",
              "      <th></th>\n",
              "      <th>permalink</th>\n",
              "      <th>name</th>\n",
              "      <th>category_list</th>\n",
              "      <th>status</th>\n",
              "      <th>country_code</th>\n",
              "      <th>funding_round_permalink</th>\n",
              "      <th>funding_round_type</th>\n",
              "      <th>funded_at</th>\n",
              "      <th>raised_amount_usd</th>\n",
              "    </tr>\n",
              "  </thead>\n",
              "  <tbody>\n",
              "    <tr>\n",
              "      <th>114947</th>\n",
              "      <td>/ORGANIZATION/ASYS-2</td>\n",
              "      <td>asys</td>\n",
              "      <td>Consumer Electronics|Internet of Things|Teleco...</td>\n",
              "      <td>operating</td>\n",
              "      <td>USA</td>\n",
              "      <td>/funding-round/35f09d0794651719b02bbfd859ba9ff5</td>\n",
              "      <td>seed</td>\n",
              "      <td>01-01-2015</td>\n",
              "      <td>18192.0</td>\n",
              "    </tr>\n",
              "    <tr>\n",
              "      <th>114948</th>\n",
              "      <td>/ORGANIZATION/NOVATIFF-REKLAM-VE-TANTM-HIZMETL...</td>\n",
              "      <td>novatiff Reklam ve Tantm Hizmetleri Tic</td>\n",
              "      <td>Consumer Goods|E-Commerce|Internet</td>\n",
              "      <td>operating</td>\n",
              "      <td>NaN</td>\n",
              "      <td>/funding-round/af942869878d2cd788ef5189b435ebc4</td>\n",
              "      <td>grant</td>\n",
              "      <td>01-10-2013</td>\n",
              "      <td>14851.0</td>\n",
              "    </tr>\n",
              "  </tbody>\n",
              "</table>\n",
              "</div>"
            ],
            "text/plain": [
              "                                                permalink  \\\n",
              "114947                               /ORGANIZATION/ASYS-2   \n",
              "114948  /ORGANIZATION/NOVATIFF-REKLAM-VE-TANTM-HIZMETL...   \n",
              "\n",
              "                                           name  \\\n",
              "114947                                     asys   \n",
              "114948  novatiff Reklam ve Tantm Hizmetleri Tic   \n",
              "\n",
              "                                            category_list     status  \\\n",
              "114947  Consumer Electronics|Internet of Things|Teleco...  operating   \n",
              "114948                 Consumer Goods|E-Commerce|Internet  operating   \n",
              "\n",
              "       country_code                          funding_round_permalink  \\\n",
              "114947          USA  /funding-round/35f09d0794651719b02bbfd859ba9ff5   \n",
              "114948          NaN  /funding-round/af942869878d2cd788ef5189b435ebc4   \n",
              "\n",
              "       funding_round_type   funded_at  raised_amount_usd  \n",
              "114947               seed  01-01-2015            18192.0  \n",
              "114948              grant  01-10-2013            14851.0  "
            ]
          },
          "execution_count": 22,
          "metadata": {},
          "output_type": "execute_result"
        }
      ],
      "source": [
        "df = pd.merge(company, rounds, how=\"inner\", left_on=\"permalink\", right_on=\"company_permalink\")\n",
        "company_rounds=df.drop(['company_permalink'], axis=1).copy()\n",
        "company_rounds.tail(2)"
      ]
    },
    {
      "cell_type": "code",
      "execution_count": null,
      "metadata": {
        "id": "ihy4iLajgDXL",
        "outputId": "d9f8db03-7f82-45c3-d1d1-00e9f86177d7"
      },
      "outputs": [
        {
          "data": {
            "text/plain": [
              "(114949, 9)"
            ]
          },
          "execution_count": 23,
          "metadata": {},
          "output_type": "execute_result"
        }
      ],
      "source": [
        "company_rounds.shape"
      ]
    },
    {
      "cell_type": "code",
      "execution_count": null,
      "metadata": {
        "id": "ChzCLUjTgDXM",
        "outputId": "154e6a63-a5e3-4a03-f362-0250ba07b3b0"
      },
      "outputs": [
        {
          "name": "stdout",
          "output_type": "stream",
          "text": [
            "<class 'pandas.core.frame.DataFrame'>\n",
            "Int64Index: 114949 entries, 0 to 114948\n",
            "Data columns (total 9 columns):\n",
            " #   Column                   Non-Null Count   Dtype  \n",
            "---  ------                   --------------   -----  \n",
            " 0   permalink                114949 non-null  object \n",
            " 1   name                     114948 non-null  object \n",
            " 2   category_list            111539 non-null  object \n",
            " 3   status                   114949 non-null  object \n",
            " 4   country_code             106271 non-null  object \n",
            " 5   funding_round_permalink  114949 non-null  object \n",
            " 6   funding_round_type       114949 non-null  object \n",
            " 7   funded_at                114949 non-null  object \n",
            " 8   raised_amount_usd        94959 non-null   float64\n",
            "dtypes: float64(1), object(8)\n",
            "memory usage: 8.8+ MB\n"
          ]
        }
      ],
      "source": [
        "company_rounds.info()"
      ]
    },
    {
      "cell_type": "code",
      "execution_count": null,
      "metadata": {
        "id": "AoXrrfrNgDXM",
        "outputId": "510af384-a285-40bb-a824-b0809e847f29"
      },
      "outputs": [
        {
          "data": {
            "text/plain": [
              "raised_amount_usd          17.4\n",
              "country_code                7.5\n",
              "category_list               3.0\n",
              "funded_at                   0.0\n",
              "funding_round_type          0.0\n",
              "funding_round_permalink     0.0\n",
              "status                      0.0\n",
              "name                        0.0\n",
              "permalink                   0.0\n",
              "dtype: float64"
            ]
          },
          "execution_count": 25,
          "metadata": {},
          "output_type": "execute_result"
        }
      ],
      "source": [
        "# fraction of missing values in each column.\n",
        "p=company_rounds.isnull().sum()/company_rounds.shape[0]\n",
        "round(100*p,1).sort_values(ascending=False)"
      ]
    },
    {
      "cell_type": "markdown",
      "metadata": {
        "id": "lev_H8v6gDXM"
      },
      "source": [
        "columns \"funding_round_code\" , \"country_code\" and \"category_list\" have missing data.\n",
        "\n",
        "the column \"raised_amount_usd\" is the number we want to analyse (compare, means, etc),\n",
        "so it is an is an important column. so, it's better to remove NaNs in \"raised_amount_usd\".\n",
        "\n",
        "we're going to use \"country_code\" for country-wise analysis.\n",
        "\n",
        "and we're going to use \"category_list\" to merge the dataframes with the main categories."
      ]
    },
    {
      "cell_type": "code",
      "execution_count": null,
      "metadata": {
        "id": "Jo9aHtbqgDXM"
      },
      "outputs": [],
      "source": [
        "company_rounds.dropna(axis=0, subset=['raised_amount_usd'], inplace=True)"
      ]
    },
    {
      "cell_type": "code",
      "execution_count": null,
      "metadata": {
        "id": "rGSqY92TgDXM",
        "outputId": "bcbbe7f8-22c6-41f5-98da-fe826c73df62"
      },
      "outputs": [
        {
          "data": {
            "text/plain": [
              "0                                                     Media\n",
              "2         Application Platforms|Real Time|Social Network...\n",
              "3                                         Apps|Games|Mobile\n",
              "4                                               Curated Web\n",
              "6                                                     Games\n",
              "                                ...                        \n",
              "114943          Advertising|Mobile|Web Development|Wireless\n",
              "114944          Advertising|Mobile|Web Development|Wireless\n",
              "114945          Advertising|Mobile|Web Development|Wireless\n",
              "114947    Consumer Electronics|Internet of Things|Teleco...\n",
              "114948                   Consumer Goods|E-Commerce|Internet\n",
              "Name: category_list, Length: 94959, dtype: object"
            ]
          },
          "execution_count": 27,
          "metadata": {},
          "output_type": "execute_result"
        }
      ],
      "source": [
        "company_rounds['category_list']"
      ]
    },
    {
      "cell_type": "code",
      "execution_count": null,
      "metadata": {
        "id": "hAjakcTBgDXN",
        "outputId": "4d6b9ff4-e57d-404a-db4b-4e87979db005"
      },
      "outputs": [
        {
          "data": {
            "text/plain": [
              "Index(['permalink', 'name', 'category_list', 'status', 'country_code',\n",
              "       'funding_round_permalink', 'funding_round_type', 'funded_at',\n",
              "       'raised_amount_usd'],\n",
              "      dtype='object')"
            ]
          },
          "execution_count": 28,
          "metadata": {},
          "output_type": "execute_result"
        }
      ],
      "source": [
        "company_rounds.columns"
      ]
    },
    {
      "cell_type": "code",
      "execution_count": null,
      "metadata": {
        "id": "nVumDS5mgDXN",
        "outputId": "cee096c3-1e42-4f1f-fd3e-1a091c7b5941"
      },
      "outputs": [
        {
          "data": {
            "text/html": [
              "<div>\n",
              "<style scoped>\n",
              "    .dataframe tbody tr th:only-of-type {\n",
              "        vertical-align: middle;\n",
              "    }\n",
              "\n",
              "    .dataframe tbody tr th {\n",
              "        vertical-align: top;\n",
              "    }\n",
              "\n",
              "    .dataframe thead th {\n",
              "        text-align: right;\n",
              "    }\n",
              "</style>\n",
              "<table border=\"1\" class=\"dataframe\">\n",
              "  <thead>\n",
              "    <tr style=\"text-align: right;\">\n",
              "      <th></th>\n",
              "      <th>permalink</th>\n",
              "      <th>name</th>\n",
              "      <th>category_list</th>\n",
              "      <th>status</th>\n",
              "      <th>country_code</th>\n",
              "      <th>funding_round_permalink</th>\n",
              "      <th>funding_round_type</th>\n",
              "      <th>funded_at</th>\n",
              "      <th>raised_amount_usd</th>\n",
              "    </tr>\n",
              "  </thead>\n",
              "  <tbody>\n",
              "    <tr>\n",
              "      <th>3</th>\n",
              "      <td>/ORGANIZATION/-THE-ONE-OF-THEM-INC-</td>\n",
              "      <td>(THE) ONE of THEM,Inc.</td>\n",
              "      <td>Apps|Games|Mobile</td>\n",
              "      <td>operating</td>\n",
              "      <td>NaN</td>\n",
              "      <td>/funding-round/650b8f704416801069bb178a1418776b</td>\n",
              "      <td>venture</td>\n",
              "      <td>30-01-2014</td>\n",
              "      <td>3406878.0</td>\n",
              "    </tr>\n",
              "    <tr>\n",
              "      <th>32</th>\n",
              "      <td>/ORGANIZATION/1000CHI</td>\n",
              "      <td>Beijing 1000CHI Software Technology</td>\n",
              "      <td>Mobile</td>\n",
              "      <td>operating</td>\n",
              "      <td>NaN</td>\n",
              "      <td>/funding-round/854fae13c5b26b2ea6b32b06c2e5890c</td>\n",
              "      <td>angel</td>\n",
              "      <td>01-04-2010</td>\n",
              "      <td>43923865.0</td>\n",
              "    </tr>\n",
              "    <tr>\n",
              "      <th>66</th>\n",
              "      <td>/ORGANIZATION/10K-2</td>\n",
              "      <td>Beans Around</td>\n",
              "      <td>Coffee|Delivery|Subscription Service</td>\n",
              "      <td>operating</td>\n",
              "      <td>NaN</td>\n",
              "      <td>/funding-round/95401c8e8336892bf375ad94efd6c725</td>\n",
              "      <td>seed</td>\n",
              "      <td>04-09-2015</td>\n",
              "      <td>100000.0</td>\n",
              "    </tr>\n",
              "  </tbody>\n",
              "</table>\n",
              "</div>"
            ],
            "text/plain": [
              "                              permalink                                 name  \\\n",
              "3   /ORGANIZATION/-THE-ONE-OF-THEM-INC-               (THE) ONE of THEM,Inc.   \n",
              "32                /ORGANIZATION/1000CHI  Beijing 1000CHI Software Technology   \n",
              "66                  /ORGANIZATION/10K-2                         Beans Around   \n",
              "\n",
              "                           category_list     status country_code  \\\n",
              "3                      Apps|Games|Mobile  operating          NaN   \n",
              "32                                Mobile  operating          NaN   \n",
              "66  Coffee|Delivery|Subscription Service  operating          NaN   \n",
              "\n",
              "                            funding_round_permalink funding_round_type  \\\n",
              "3   /funding-round/650b8f704416801069bb178a1418776b            venture   \n",
              "32  /funding-round/854fae13c5b26b2ea6b32b06c2e5890c              angel   \n",
              "66  /funding-round/95401c8e8336892bf375ad94efd6c725               seed   \n",
              "\n",
              "     funded_at  raised_amount_usd  \n",
              "3   30-01-2014          3406878.0  \n",
              "32  01-04-2010         43923865.0  \n",
              "66  04-09-2015           100000.0  "
            ]
          },
          "execution_count": 29,
          "metadata": {},
          "output_type": "execute_result"
        }
      ],
      "source": [
        "company_rounds[pd.isnull(company_rounds['country_code'])][:3]\n"
      ]
    },
    {
      "cell_type": "code",
      "execution_count": null,
      "metadata": {
        "id": "Sq4BcyzMgDXN"
      },
      "outputs": [],
      "source": [
        "company_rounds.fillna(999, inplace=True)"
      ]
    },
    {
      "cell_type": "code",
      "execution_count": null,
      "metadata": {
        "id": "dUMZ99S-gDXN",
        "outputId": "3b7a5921-3aa8-4f3b-9632-f200cebf8fba"
      },
      "outputs": [
        {
          "data": {
            "text/plain": [
              "raised_amount_usd          0.0\n",
              "funded_at                  0.0\n",
              "funding_round_type         0.0\n",
              "funding_round_permalink    0.0\n",
              "country_code               0.0\n",
              "status                     0.0\n",
              "category_list              0.0\n",
              "name                       0.0\n",
              "permalink                  0.0\n",
              "dtype: float64"
            ]
          },
          "execution_count": 31,
          "metadata": {},
          "output_type": "execute_result"
        }
      ],
      "source": [
        "# fraction of missing values in each column.\n",
        "p=company_rounds.isnull().sum()/company_rounds.shape[0]\n",
        "round(100*p,1).sort_values(ascending=False)"
      ]
    },
    {
      "cell_type": "code",
      "execution_count": null,
      "metadata": {
        "id": "s9Y7n8NsgDXN"
      },
      "outputs": [],
      "source": [
        "# writing the dataframe to an another file\n",
        "company_rounds.to_csv(\"company_rounds1.csv\", sep=',', index=False)"
      ]
    },
    {
      "cell_type": "markdown",
      "metadata": {
        "id": "JtduiU0tgDXN"
      },
      "source": [
        "# Part 3: Analysis\n",
        "\n",
        "\n",
        "We're going over three types of analyses:\n",
        "\n",
        "3.1 : funding type\n",
        "\n",
        "3.2: country analysis\n",
        "\n",
        "3.3: sector analysis"
      ]
    },
    {
      "cell_type": "markdown",
      "metadata": {
        "id": "ueG4sogbgDXO"
      },
      "source": [
        "\n",
        "## 3.1 Funding Type Analysis\n",
        "\n",
        "We're going to compare the funding amounts across the funding types.\n",
        "\n",
        "we need to impose the constraint that the investment amount should be between 8 and 18 million USD.\n",
        "\n",
        "We will choose the funding type such that the average investment amount falls in this range."
      ]
    },
    {
      "cell_type": "code",
      "execution_count": null,
      "metadata": {
        "id": "zAAayeqBgDXO",
        "outputId": "ff3b3452-9ecb-4c15-fe62-cf5407bb344b"
      },
      "outputs": [
        {
          "data": {
            "text/html": [
              "<div>\n",
              "<style scoped>\n",
              "    .dataframe tbody tr th:only-of-type {\n",
              "        vertical-align: middle;\n",
              "    }\n",
              "\n",
              "    .dataframe tbody tr th {\n",
              "        vertical-align: top;\n",
              "    }\n",
              "\n",
              "    .dataframe thead th {\n",
              "        text-align: right;\n",
              "    }\n",
              "</style>\n",
              "<table border=\"1\" class=\"dataframe\">\n",
              "  <thead>\n",
              "    <tr style=\"text-align: right;\">\n",
              "      <th></th>\n",
              "      <th>permalink</th>\n",
              "      <th>name</th>\n",
              "      <th>category_list</th>\n",
              "      <th>status</th>\n",
              "      <th>country_code</th>\n",
              "      <th>funding_round_permalink</th>\n",
              "      <th>funding_round_type</th>\n",
              "      <th>funded_at</th>\n",
              "      <th>raised_amount_usd</th>\n",
              "    </tr>\n",
              "  </thead>\n",
              "  <tbody>\n",
              "    <tr>\n",
              "      <th>0</th>\n",
              "      <td>/ORGANIZATION/-FAME</td>\n",
              "      <td>#fame</td>\n",
              "      <td>Media</td>\n",
              "      <td>operating</td>\n",
              "      <td>IND</td>\n",
              "      <td>/funding-round/9a01d05418af9f794eebff7ace91f638</td>\n",
              "      <td>venture</td>\n",
              "      <td>05-01-2015</td>\n",
              "      <td>10000000.0</td>\n",
              "    </tr>\n",
              "    <tr>\n",
              "      <th>1</th>\n",
              "      <td>/ORGANIZATION/-QOUNTER</td>\n",
              "      <td>:Qounter</td>\n",
              "      <td>Application Platforms|Real Time|Social Network...</td>\n",
              "      <td>operating</td>\n",
              "      <td>USA</td>\n",
              "      <td>/funding-round/b44fbb94153f6cdef13083530bb48030</td>\n",
              "      <td>seed</td>\n",
              "      <td>01-03-2014</td>\n",
              "      <td>700000.0</td>\n",
              "    </tr>\n",
              "  </tbody>\n",
              "</table>\n",
              "</div>"
            ],
            "text/plain": [
              "                permalink      name  \\\n",
              "0     /ORGANIZATION/-FAME     #fame   \n",
              "1  /ORGANIZATION/-QOUNTER  :Qounter   \n",
              "\n",
              "                                       category_list     status country_code  \\\n",
              "0                                              Media  operating          IND   \n",
              "1  Application Platforms|Real Time|Social Network...  operating          USA   \n",
              "\n",
              "                           funding_round_permalink funding_round_type  \\\n",
              "0  /funding-round/9a01d05418af9f794eebff7ace91f638            venture   \n",
              "1  /funding-round/b44fbb94153f6cdef13083530bb48030               seed   \n",
              "\n",
              "    funded_at  raised_amount_usd  \n",
              "0  05-01-2015         10000000.0  \n",
              "1  01-03-2014           700000.0  "
            ]
          },
          "execution_count": 33,
          "metadata": {},
          "output_type": "execute_result"
        }
      ],
      "source": [
        "df = pd.read_csv(\"company_rounds1.csv\", sep=\",\")\n",
        "df.head(2)"
      ]
    },
    {
      "cell_type": "code",
      "execution_count": null,
      "metadata": {
        "id": "o-q2uucygDXO",
        "outputId": "2631c485-341d-4a4d-c7a3-a75d07cbacc6"
      },
      "outputs": [
        {
          "data": {
            "text/plain": [
              "array(['venture', 'seed', 'undisclosed', 'convertible_note',\n",
              "       'private_equity', 'debt_financing', 'angel', 'grant',\n",
              "       'equity_crowdfunding', 'post_ipo_equity', 'post_ipo_debt',\n",
              "       'product_crowdfunding', 'secondary_market',\n",
              "       'non_equity_assistance'], dtype=object)"
            ]
          },
          "execution_count": 34,
          "metadata": {},
          "output_type": "execute_result"
        }
      ],
      "source": [
        "df['funding_round_type'].unique()"
      ]
    },
    {
      "cell_type": "markdown",
      "metadata": {
        "id": "3QzxpHHLgDXO"
      },
      "source": [
        "We filter  df so it only contains the 4 specified funding types.\n"
      ]
    },
    {
      "cell_type": "code",
      "execution_count": null,
      "metadata": {
        "id": "rVgAoN41gDXO"
      },
      "outputs": [],
      "source": [
        "df = df[(df['funding_round_type'] == \"venture\") |\n",
        "        (df['funding_round_type'] == \"seed\") |\n",
        "        (df['funding_round_type'] == \"private_equity\") |\n",
        "        (df['funding_round_type'] == \"angel\") ]"
      ]
    },
    {
      "cell_type": "markdown",
      "metadata": {
        "id": "W8w3YmOtgDXO"
      },
      "source": [
        "Let's compare summary stats across 4 categories:\n"
      ]
    },
    {
      "cell_type": "code",
      "execution_count": null,
      "metadata": {
        "id": "SK4FjM-ygDXP",
        "outputId": "b50f2da2-20be-4e43-8a36-0ba487166b2a"
      },
      "outputs": [
        {
          "data": {
            "image/png": "[encoded data removed]",
            "text/plain": [
              "<Figure size 432x288 with 1 Axes>"
            ]
          },
          "metadata": {},
          "output_type": "display_data"
        }
      ],
      "source": [
        "sns.set_theme(style=\"whitegrid\")\n",
        "sns.barplot(x=\"funding_round_type\", y=\"raised_amount_usd\", data=df)\n",
        "plt.yscale('log')\n",
        "plt.show()"
      ]
    },
    {
      "cell_type": "markdown",
      "metadata": {
        "id": "lLBj6d-jgDXP"
      },
      "source": [
        "Let's compare the mean and median values across categories:\n"
      ]
    },
    {
      "cell_type": "code",
      "execution_count": null,
      "metadata": {
        "id": "IxibphCzgDXP",
        "outputId": "7bd37c1b-75e9-45d9-96d4-1a34638b6e12"
      },
      "outputs": [
        {
          "data": {
            "text/html": [
              "<div>\n",
              "<style scoped>\n",
              "    .dataframe tbody tr th:only-of-type {\n",
              "        vertical-align: middle;\n",
              "    }\n",
              "\n",
              "    .dataframe tbody tr th {\n",
              "        vertical-align: top;\n",
              "    }\n",
              "\n",
              "    .dataframe thead tr th {\n",
              "        text-align: left;\n",
              "    }\n",
              "</style>\n",
              "<table border=\"1\" class=\"dataframe\">\n",
              "  <thead>\n",
              "    <tr>\n",
              "      <th></th>\n",
              "      <th colspan=\"4\" halign=\"left\">median</th>\n",
              "      <th colspan=\"4\" halign=\"left\">mean</th>\n",
              "    </tr>\n",
              "    <tr>\n",
              "      <th>funding_round_type</th>\n",
              "      <th>angel</th>\n",
              "      <th>private_equity</th>\n",
              "      <th>seed</th>\n",
              "      <th>venture</th>\n",
              "      <th>angel</th>\n",
              "      <th>private_equity</th>\n",
              "      <th>seed</th>\n",
              "      <th>venture</th>\n",
              "    </tr>\n",
              "  </thead>\n",
              "  <tbody>\n",
              "    <tr>\n",
              "      <th>raised_amount_usd</th>\n",
              "      <td>400000.0</td>\n",
              "      <td>20000000.0</td>\n",
              "      <td>275000.0</td>\n",
              "      <td>5000000.0</td>\n",
              "      <td>958694.469753</td>\n",
              "      <td>7.330859e+07</td>\n",
              "      <td>719817.996907</td>\n",
              "      <td>1.174895e+07</td>\n",
              "    </tr>\n",
              "  </tbody>\n",
              "</table>\n",
              "</div>"
            ],
            "text/plain": [
              "                      median                                      \\\n",
              "funding_round_type     angel private_equity      seed    venture   \n",
              "raised_amount_usd   400000.0     20000000.0  275000.0  5000000.0   \n",
              "\n",
              "                             mean                                              \n",
              "funding_round_type          angel private_equity           seed       venture  \n",
              "raised_amount_usd   958694.469753   7.330859e+07  719817.996907  1.174895e+07  "
            ]
          },
          "execution_count": 37,
          "metadata": {},
          "output_type": "execute_result"
        }
      ],
      "source": [
        "df.pivot_table(values='raised_amount_usd', columns='funding_round_type', aggfunc=[np.median, np.mean])"
      ]
    },
    {
      "cell_type": "markdown",
      "metadata": {
        "id": "Y9ozQDUtgDXP"
      },
      "source": [
        "There's a significant difference between the mean and the median values for all 4 types.\n",
        "\n",
        "We'll choose median to be representative value of the funding amount for each type of invesstment.\n"
      ]
    },
    {
      "cell_type": "code",
      "execution_count": null,
      "metadata": {
        "id": "M5H8bDBagDXP",
        "outputId": "28b032bc-6360-4e63-d30f-64cd1ab147a7"
      },
      "outputs": [
        {
          "data": {
            "text/plain": [
              "funding_round_type\n",
              "private_equity    7.330859e+07\n",
              "venture           1.174895e+07\n",
              "angel             9.586945e+05\n",
              "seed              7.198180e+05\n",
              "Name: raised_amount_usd, dtype: float64"
            ]
          },
          "execution_count": 38,
          "metadata": {},
          "output_type": "execute_result"
        }
      ],
      "source": [
        "# compare the mean investment amount across the types\n",
        "df.groupby('funding_round_type')['raised_amount_usd'].mean().sort_values(ascending=False)"
      ]
    },
    {
      "cell_type": "code",
      "execution_count": null,
      "metadata": {
        "id": "_OHXKi9ZgDXP",
        "outputId": "be3bf43b-734f-4da3-e0c9-b76f5d84d1de"
      },
      "outputs": [
        {
          "data": {
            "text/plain": [
              "funding_round_type\n",
              "private_equity    20000000.0\n",
              "venture            5000000.0\n",
              "angel               400000.0\n",
              "seed                275000.0\n",
              "Name: raised_amount_usd, dtype: float64"
            ]
          },
          "execution_count": 39,
          "metadata": {},
          "output_type": "execute_result"
        }
      ],
      "source": [
        "# compare the median investment amount across the types\n",
        "df.groupby('funding_round_type')['raised_amount_usd'].median().sort_values(ascending=False)"
      ]
    },
    {
      "cell_type": "markdown",
      "metadata": {
        "id": "TWdXA_bRgDXQ"
      },
      "source": [
        "Note that Company A wants to invest 1 to 6 million dollar per round of investment;\n",
        "\n",
        "It seems, 'venture' type investment will be most suited to Company A."
      ]
    },
    {
      "cell_type": "markdown",
      "metadata": {
        "id": "53Tm5SUkgDXQ"
      },
      "source": [
        "Before proceeding further, note that the \"category_list\" column contains values such as \"Advertising|Mobile|Web Development|Wireless\" - in this, 'Advertising' is the 'main category' of the company, which we need to use.\n",
        "\n",
        "Let's extract the main categories in a new column."
      ]
    },
    {
      "cell_type": "code",
      "execution_count": null,
      "metadata": {
        "id": "ChFD9mD5gDXQ",
        "outputId": "3d1aa1df-88d8-4ae1-ce39-3dc38b4f8b2a"
      },
      "outputs": [
        {
          "data": {
            "text/plain": [
              "0                                                    Media\n",
              "1        Application Platforms|Real Time|Social Network...\n",
              "2                                        Apps|Games|Mobile\n",
              "3                                              Curated Web\n",
              "5                                            Biotechnology\n",
              "                               ...                        \n",
              "94952                                  Enterprise Software\n",
              "94953          Advertising|Mobile|Web Development|Wireless\n",
              "94954          Advertising|Mobile|Web Development|Wireless\n",
              "94956          Advertising|Mobile|Web Development|Wireless\n",
              "94957    Consumer Electronics|Internet of Things|Teleco...\n",
              "Name: category_list, Length: 80627, dtype: object"
            ]
          },
          "execution_count": 40,
          "metadata": {},
          "output_type": "execute_result"
        }
      ],
      "source": [
        "df['category_list']"
      ]
    },
    {
      "cell_type": "code",
      "execution_count": null,
      "metadata": {
        "id": "iqwQ1N7sgDXQ",
        "outputId": "592f08e0-0130-4b52-ea98-69f9f97a4f6c"
      },
      "outputs": [
        {
          "data": {
            "text/html": [
              "<div>\n",
              "<style scoped>\n",
              "    .dataframe tbody tr th:only-of-type {\n",
              "        vertical-align: middle;\n",
              "    }\n",
              "\n",
              "    .dataframe tbody tr th {\n",
              "        vertical-align: top;\n",
              "    }\n",
              "\n",
              "    .dataframe thead th {\n",
              "        text-align: right;\n",
              "    }\n",
              "</style>\n",
              "<table border=\"1\" class=\"dataframe\">\n",
              "  <thead>\n",
              "    <tr style=\"text-align: right;\">\n",
              "      <th></th>\n",
              "      <th>permalink</th>\n",
              "      <th>name</th>\n",
              "      <th>category_list</th>\n",
              "      <th>status</th>\n",
              "      <th>country_code</th>\n",
              "      <th>funding_round_permalink</th>\n",
              "      <th>funding_round_type</th>\n",
              "      <th>funded_at</th>\n",
              "      <th>raised_amount_usd</th>\n",
              "      <th>main_category</th>\n",
              "    </tr>\n",
              "  </thead>\n",
              "  <tbody>\n",
              "    <tr>\n",
              "      <th>0</th>\n",
              "      <td>/ORGANIZATION/-FAME</td>\n",
              "      <td>#fame</td>\n",
              "      <td>Media</td>\n",
              "      <td>operating</td>\n",
              "      <td>IND</td>\n",
              "      <td>/funding-round/9a01d05418af9f794eebff7ace91f638</td>\n",
              "      <td>venture</td>\n",
              "      <td>05-01-2015</td>\n",
              "      <td>10000000.0</td>\n",
              "      <td>MEDIA</td>\n",
              "    </tr>\n",
              "    <tr>\n",
              "      <th>1</th>\n",
              "      <td>/ORGANIZATION/-QOUNTER</td>\n",
              "      <td>:Qounter</td>\n",
              "      <td>Application Platforms|Real Time|Social Network...</td>\n",
              "      <td>operating</td>\n",
              "      <td>USA</td>\n",
              "      <td>/funding-round/b44fbb94153f6cdef13083530bb48030</td>\n",
              "      <td>seed</td>\n",
              "      <td>01-03-2014</td>\n",
              "      <td>700000.0</td>\n",
              "      <td>APPLICATION PLATFORMS</td>\n",
              "    </tr>\n",
              "    <tr>\n",
              "      <th>2</th>\n",
              "      <td>/ORGANIZATION/-THE-ONE-OF-THEM-INC-</td>\n",
              "      <td>(THE) ONE of THEM,Inc.</td>\n",
              "      <td>Apps|Games|Mobile</td>\n",
              "      <td>operating</td>\n",
              "      <td>999</td>\n",
              "      <td>/funding-round/650b8f704416801069bb178a1418776b</td>\n",
              "      <td>venture</td>\n",
              "      <td>30-01-2014</td>\n",
              "      <td>3406878.0</td>\n",
              "      <td>APPS</td>\n",
              "    </tr>\n",
              "    <tr>\n",
              "      <th>3</th>\n",
              "      <td>/ORGANIZATION/0-6-COM</td>\n",
              "      <td>0-6.com</td>\n",
              "      <td>Curated Web</td>\n",
              "      <td>operating</td>\n",
              "      <td>CHN</td>\n",
              "      <td>/funding-round/5727accaeaa57461bd22a9bdd945382d</td>\n",
              "      <td>venture</td>\n",
              "      <td>19-03-2008</td>\n",
              "      <td>2000000.0</td>\n",
              "      <td>CURATED WEB</td>\n",
              "    </tr>\n",
              "    <tr>\n",
              "      <th>5</th>\n",
              "      <td>/ORGANIZATION/0NDINE-BIOMEDICAL-INC</td>\n",
              "      <td>Ondine Biomedical Inc.</td>\n",
              "      <td>Biotechnology</td>\n",
              "      <td>operating</td>\n",
              "      <td>CAN</td>\n",
              "      <td>/funding-round/2b9d3ac293d5cdccbecff5c8cb0f327d</td>\n",
              "      <td>seed</td>\n",
              "      <td>11-09-2009</td>\n",
              "      <td>43360.0</td>\n",
              "      <td>BIOTECHNOLOGY</td>\n",
              "    </tr>\n",
              "  </tbody>\n",
              "</table>\n",
              "</div>"
            ],
            "text/plain": [
              "                             permalink                    name  \\\n",
              "0                  /ORGANIZATION/-FAME                   #fame   \n",
              "1               /ORGANIZATION/-QOUNTER                :Qounter   \n",
              "2  /ORGANIZATION/-THE-ONE-OF-THEM-INC-  (THE) ONE of THEM,Inc.   \n",
              "3                /ORGANIZATION/0-6-COM                 0-6.com   \n",
              "5  /ORGANIZATION/0NDINE-BIOMEDICAL-INC  Ondine Biomedical Inc.   \n",
              "\n",
              "                                       category_list     status country_code  \\\n",
              "0                                              Media  operating          IND   \n",
              "1  Application Platforms|Real Time|Social Network...  operating          USA   \n",
              "2                                  Apps|Games|Mobile  operating          999   \n",
              "3                                        Curated Web  operating          CHN   \n",
              "5                                      Biotechnology  operating          CAN   \n",
              "\n",
              "                           funding_round_permalink funding_round_type  \\\n",
              "0  /funding-round/9a01d05418af9f794eebff7ace91f638            venture   \n",
              "1  /funding-round/b44fbb94153f6cdef13083530bb48030               seed   \n",
              "2  /funding-round/650b8f704416801069bb178a1418776b            venture   \n",
              "3  /funding-round/5727accaeaa57461bd22a9bdd945382d            venture   \n",
              "5  /funding-round/2b9d3ac293d5cdccbecff5c8cb0f327d               seed   \n",
              "\n",
              "    funded_at  raised_amount_usd          main_category  \n",
              "0  05-01-2015         10000000.0                  MEDIA  \n",
              "1  01-03-2014           700000.0  APPLICATION PLATFORMS  \n",
              "2  30-01-2014          3406878.0                   APPS  \n",
              "3  19-03-2008          2000000.0            CURATED WEB  \n",
              "5  11-09-2009            43360.0          BIOTECHNOLOGY  "
            ]
          },
          "execution_count": 41,
          "metadata": {},
          "output_type": "execute_result"
        }
      ],
      "source": [
        "# extracting the main category\n",
        "df.loc[:, 'main_category'] = df['category_list'].apply(lambda x: x.split(\"|\")[0])\n",
        "df['main_category'] = df['main_category'].str.upper()\n",
        "df.head()"
      ]
    },
    {
      "cell_type": "code",
      "execution_count": null,
      "metadata": {
        "id": "Op6dgENFgDXQ",
        "outputId": "5544f5a2-0a70-4618-834e-b9ad4b54c7e1"
      },
      "outputs": [
        {
          "data": {
            "text/html": [
              "<div>\n",
              "<style scoped>\n",
              "    .dataframe tbody tr th:only-of-type {\n",
              "        vertical-align: middle;\n",
              "    }\n",
              "\n",
              "    .dataframe tbody tr th {\n",
              "        vertical-align: top;\n",
              "    }\n",
              "\n",
              "    .dataframe thead th {\n",
              "        text-align: right;\n",
              "    }\n",
              "</style>\n",
              "<table border=\"1\" class=\"dataframe\">\n",
              "  <thead>\n",
              "    <tr style=\"text-align: right;\">\n",
              "      <th></th>\n",
              "      <th>permalink</th>\n",
              "      <th>name</th>\n",
              "      <th>status</th>\n",
              "      <th>country_code</th>\n",
              "      <th>funding_round_permalink</th>\n",
              "      <th>funding_round_type</th>\n",
              "      <th>funded_at</th>\n",
              "      <th>raised_amount_usd</th>\n",
              "      <th>main_category</th>\n",
              "    </tr>\n",
              "  </thead>\n",
              "  <tbody>\n",
              "    <tr>\n",
              "      <th>0</th>\n",
              "      <td>/ORGANIZATION/-FAME</td>\n",
              "      <td>#fame</td>\n",
              "      <td>operating</td>\n",
              "      <td>IND</td>\n",
              "      <td>/funding-round/9a01d05418af9f794eebff7ace91f638</td>\n",
              "      <td>venture</td>\n",
              "      <td>05-01-2015</td>\n",
              "      <td>10000000.0</td>\n",
              "      <td>MEDIA</td>\n",
              "    </tr>\n",
              "    <tr>\n",
              "      <th>1</th>\n",
              "      <td>/ORGANIZATION/-QOUNTER</td>\n",
              "      <td>:Qounter</td>\n",
              "      <td>operating</td>\n",
              "      <td>USA</td>\n",
              "      <td>/funding-round/b44fbb94153f6cdef13083530bb48030</td>\n",
              "      <td>seed</td>\n",
              "      <td>01-03-2014</td>\n",
              "      <td>700000.0</td>\n",
              "      <td>APPLICATION PLATFORMS</td>\n",
              "    </tr>\n",
              "    <tr>\n",
              "      <th>2</th>\n",
              "      <td>/ORGANIZATION/-THE-ONE-OF-THEM-INC-</td>\n",
              "      <td>(THE) ONE of THEM,Inc.</td>\n",
              "      <td>operating</td>\n",
              "      <td>999</td>\n",
              "      <td>/funding-round/650b8f704416801069bb178a1418776b</td>\n",
              "      <td>venture</td>\n",
              "      <td>30-01-2014</td>\n",
              "      <td>3406878.0</td>\n",
              "      <td>APPS</td>\n",
              "    </tr>\n",
              "    <tr>\n",
              "      <th>3</th>\n",
              "      <td>/ORGANIZATION/0-6-COM</td>\n",
              "      <td>0-6.com</td>\n",
              "      <td>operating</td>\n",
              "      <td>CHN</td>\n",
              "      <td>/funding-round/5727accaeaa57461bd22a9bdd945382d</td>\n",
              "      <td>venture</td>\n",
              "      <td>19-03-2008</td>\n",
              "      <td>2000000.0</td>\n",
              "      <td>CURATED WEB</td>\n",
              "    </tr>\n",
              "    <tr>\n",
              "      <th>5</th>\n",
              "      <td>/ORGANIZATION/0NDINE-BIOMEDICAL-INC</td>\n",
              "      <td>Ondine Biomedical Inc.</td>\n",
              "      <td>operating</td>\n",
              "      <td>CAN</td>\n",
              "      <td>/funding-round/2b9d3ac293d5cdccbecff5c8cb0f327d</td>\n",
              "      <td>seed</td>\n",
              "      <td>11-09-2009</td>\n",
              "      <td>43360.0</td>\n",
              "      <td>BIOTECHNOLOGY</td>\n",
              "    </tr>\n",
              "  </tbody>\n",
              "</table>\n",
              "</div>"
            ],
            "text/plain": [
              "                             permalink                    name     status  \\\n",
              "0                  /ORGANIZATION/-FAME                   #fame  operating   \n",
              "1               /ORGANIZATION/-QOUNTER                :Qounter  operating   \n",
              "2  /ORGANIZATION/-THE-ONE-OF-THEM-INC-  (THE) ONE of THEM,Inc.  operating   \n",
              "3                /ORGANIZATION/0-6-COM                 0-6.com  operating   \n",
              "5  /ORGANIZATION/0NDINE-BIOMEDICAL-INC  Ondine Biomedical Inc.  operating   \n",
              "\n",
              "  country_code                          funding_round_permalink  \\\n",
              "0          IND  /funding-round/9a01d05418af9f794eebff7ace91f638   \n",
              "1          USA  /funding-round/b44fbb94153f6cdef13083530bb48030   \n",
              "2          999  /funding-round/650b8f704416801069bb178a1418776b   \n",
              "3          CHN  /funding-round/5727accaeaa57461bd22a9bdd945382d   \n",
              "5          CAN  /funding-round/2b9d3ac293d5cdccbecff5c8cb0f327d   \n",
              "\n",
              "  funding_round_type   funded_at  raised_amount_usd          main_category  \n",
              "0            venture  05-01-2015         10000000.0                  MEDIA  \n",
              "1               seed  01-03-2014           700000.0  APPLICATION PLATFORMS  \n",
              "2            venture  30-01-2014          3406878.0                   APPS  \n",
              "3            venture  19-03-2008          2000000.0            CURATED WEB  \n",
              "5               seed  11-09-2009            43360.0          BIOTECHNOLOGY  "
            ]
          },
          "execution_count": 42,
          "metadata": {},
          "output_type": "execute_result"
        }
      ],
      "source": [
        "# drop the category_list column\n",
        "df = df.drop('category_list', axis=1)\n",
        "df.head()"
      ]
    },
    {
      "cell_type": "markdown",
      "metadata": {
        "id": "SMU10nS4gDXQ"
      },
      "source": [
        "## 3.2 Country Analysis\n",
        "\n",
        "Now, we'll filter the data for only the 'venture' type investments and then compare the 'total investment' across countries."
      ]
    },
    {
      "cell_type": "markdown",
      "metadata": {
        "id": "OKnd0RfQgDXR"
      },
      "source": [
        "Then , we group by \"country_code\" and compare the total funding amounts:"
      ]
    },
    {
      "cell_type": "code",
      "execution_count": null,
      "metadata": {
        "id": "JONWcPwZgDXR"
      },
      "outputs": [],
      "source": [
        "# filter the df for private equity type investments\n",
        "df = df[df.funding_round_type==\"venture\"]"
      ]
    },
    {
      "cell_type": "code",
      "execution_count": null,
      "metadata": {
        "id": "ppOScAx9gDXR",
        "outputId": "b80ae199-939c-4e87-82ae-61f3da86eef6"
      },
      "outputs": [
        {
          "data": {
            "text/plain": [
              "country_code\n",
              "USA    4.225108e+11\n",
              "CHN    3.983542e+10\n",
              "999    2.550611e+10\n",
              "GBR    2.024563e+10\n",
              "IND    1.439186e+10\n",
              "CAN    9.583332e+09\n",
              "FRA    7.259537e+09\n",
              "ISR    6.907515e+09\n",
              "DEU    6.346960e+09\n",
              "JPN    3.363677e+09\n",
              "Name: raised_amount_usd, dtype: float64"
            ]
          },
          "execution_count": 44,
          "metadata": {},
          "output_type": "execute_result"
        }
      ],
      "source": [
        "funding_comparison = df.groupby('country_code')['raised_amount_usd'].sum().sort_values(ascending=False)\n",
        "funding_comparison[:10]"
      ]
    },
    {
      "cell_type": "markdown",
      "metadata": {
        "id": "aC2Ximr-gDXR"
      },
      "source": [
        "Note that, Company A  wants to invest only in China plus countries that have English as one of the official languages in that country.\n",
        "\n",
        "Let's filter the dataframe so it contains only USA, CHN, GBR, IND, CAN (the top 5 countries).    "
      ]
    },
    {
      "cell_type": "code",
      "execution_count": null,
      "metadata": {
        "id": "EiFSaqLWgDXR",
        "outputId": "0b6f8bd9-3bca-4ba9-cb7e-96c6bbfdaa62"
      },
      "outputs": [
        {
          "data": {
            "text/html": [
              "<div>\n",
              "<style scoped>\n",
              "    .dataframe tbody tr th:only-of-type {\n",
              "        vertical-align: middle;\n",
              "    }\n",
              "\n",
              "    .dataframe tbody tr th {\n",
              "        vertical-align: top;\n",
              "    }\n",
              "\n",
              "    .dataframe thead th {\n",
              "        text-align: right;\n",
              "    }\n",
              "</style>\n",
              "<table border=\"1\" class=\"dataframe\">\n",
              "  <thead>\n",
              "    <tr style=\"text-align: right;\">\n",
              "      <th></th>\n",
              "      <th>permalink</th>\n",
              "      <th>name</th>\n",
              "      <th>status</th>\n",
              "      <th>country_code</th>\n",
              "      <th>funding_round_permalink</th>\n",
              "      <th>funding_round_type</th>\n",
              "      <th>funded_at</th>\n",
              "      <th>raised_amount_usd</th>\n",
              "      <th>main_category</th>\n",
              "    </tr>\n",
              "  </thead>\n",
              "  <tbody>\n",
              "    <tr>\n",
              "      <th>0</th>\n",
              "      <td>/ORGANIZATION/-FAME</td>\n",
              "      <td>#fame</td>\n",
              "      <td>operating</td>\n",
              "      <td>IND</td>\n",
              "      <td>/funding-round/9a01d05418af9f794eebff7ace91f638</td>\n",
              "      <td>venture</td>\n",
              "      <td>05-01-2015</td>\n",
              "      <td>10000000.0</td>\n",
              "      <td>MEDIA</td>\n",
              "    </tr>\n",
              "    <tr>\n",
              "      <th>3</th>\n",
              "      <td>/ORGANIZATION/0-6-COM</td>\n",
              "      <td>0-6.com</td>\n",
              "      <td>operating</td>\n",
              "      <td>CHN</td>\n",
              "      <td>/funding-round/5727accaeaa57461bd22a9bdd945382d</td>\n",
              "      <td>venture</td>\n",
              "      <td>19-03-2008</td>\n",
              "      <td>2000000.0</td>\n",
              "      <td>CURATED WEB</td>\n",
              "    </tr>\n",
              "  </tbody>\n",
              "</table>\n",
              "</div>"
            ],
            "text/plain": [
              "               permalink     name     status country_code  \\\n",
              "0    /ORGANIZATION/-FAME    #fame  operating          IND   \n",
              "3  /ORGANIZATION/0-6-COM  0-6.com  operating          CHN   \n",
              "\n",
              "                           funding_round_permalink funding_round_type  \\\n",
              "0  /funding-round/9a01d05418af9f794eebff7ace91f638            venture   \n",
              "3  /funding-round/5727accaeaa57461bd22a9bdd945382d            venture   \n",
              "\n",
              "    funded_at  raised_amount_usd main_category  \n",
              "0  05-01-2015         10000000.0         MEDIA  \n",
              "3  19-03-2008          2000000.0   CURATED WEB  "
            ]
          },
          "execution_count": 45,
          "metadata": {},
          "output_type": "execute_result"
        }
      ],
      "source": [
        "# filtering for the top 5 countries\n",
        "df1=df[(df['country_code']=='USA') | (df['country_code']=='CHN')\n",
        "   | (df['country_code']=='GBR') | (df['country_code']=='IND')\n",
        "   | (df['country_code']=='CAN')]\n",
        "df1.head(2)"
      ]
    },
    {
      "cell_type": "code",
      "execution_count": null,
      "metadata": {
        "id": "12InY4pxgDXR",
        "outputId": "50762d41-6a9e-4fa1-9f6b-d0d76cfade73"
      },
      "outputs": [
        {
          "data": {
            "text/plain": [
              "(41838, 9)"
            ]
          },
          "execution_count": 46,
          "metadata": {},
          "output_type": "execute_result"
        }
      ],
      "source": [
        "df1.shape"
      ]
    },
    {
      "cell_type": "code",
      "execution_count": null,
      "metadata": {
        "id": "TMqzGMRWgDXR",
        "outputId": "d19691c2-5a98-4637-e4a1-b391419e8faa"
      },
      "outputs": [
        {
          "data": {
            "image/png": "[encoded data removed]",
            "text/plain": [
              "<Figure size 432x288 with 1 Axes>"
            ]
          },
          "metadata": {},
          "output_type": "display_data"
        }
      ],
      "source": [
        "## borplot to see distributions of funding amount across top 5 countries\n",
        "\n",
        "sns.set_theme(style=\"whitegrid\")\n",
        "sns.barplot(x=\"country_code\", y=\"raised_amount_usd\", data=df1)\n",
        "plt.yscale('log')\n",
        "plt.show();"
      ]
    },
    {
      "cell_type": "code",
      "execution_count": null,
      "metadata": {
        "id": "hsBLKEqcgDXS",
        "outputId": "62df94e7-ea0a-4daa-e47e-ed43ee6d12ba"
      },
      "outputs": [
        {
          "data": {
            "image/png": "[encoded data removed]",
            "text/plain": [
              "<Figure size 504x504 with 1 Axes>"
            ]
          },
          "metadata": {},
          "output_type": "display_data"
        }
      ],
      "source": [
        "## boxplot to see distributions of funding amount across top 5 countries\n",
        "\n",
        "plt.figure(figsize=(7,7))\n",
        "sns.boxplot(x='country_code', y='raised_amount_usd', data=df1)\n",
        "plt.yscale('log')\n",
        "plt.show()"
      ]
    },
    {
      "cell_type": "markdown",
      "metadata": {
        "id": "IoxPmfApgDXS"
      },
      "source": [
        "we have filtered the dataframe by investment type (venture) and the top 5 countries.\n",
        "\n",
        "Next step is to choose the sectors."
      ]
    },
    {
      "cell_type": "markdown",
      "metadata": {
        "id": "CrvvppHdgDXS"
      },
      "source": [
        "\n",
        "## 3.3 Sector Analysis\n",
        "\n",
        "In this section, we'll read the map.csv file and merge the main categories with its corresponding column."
      ]
    },
    {
      "cell_type": "code",
      "execution_count": null,
      "metadata": {
        "id": "FYs87UwfgDXS",
        "outputId": "80621fb9-9619-4122-f04c-fff2c4b20066"
      },
      "outputs": [
        {
          "data": {
            "text/html": [
              "<div>\n",
              "<style scoped>\n",
              "    .dataframe tbody tr th:only-of-type {\n",
              "        vertical-align: middle;\n",
              "    }\n",
              "\n",
              "    .dataframe tbody tr th {\n",
              "        vertical-align: top;\n",
              "    }\n",
              "\n",
              "    .dataframe thead th {\n",
              "        text-align: right;\n",
              "    }\n",
              "</style>\n",
              "<table border=\"1\" class=\"dataframe\">\n",
              "  <thead>\n",
              "    <tr style=\"text-align: right;\">\n",
              "      <th></th>\n",
              "      <th>category_list</th>\n",
              "      <th>Automotive &amp; Sports</th>\n",
              "      <th>Blanks</th>\n",
              "      <th>Cleantech / Semiconductors</th>\n",
              "      <th>Entertainment</th>\n",
              "      <th>Health</th>\n",
              "      <th>Manufacturing</th>\n",
              "      <th>News, Search and Messaging</th>\n",
              "      <th>Others</th>\n",
              "      <th>Social, Finance, Analytics, Advertising</th>\n",
              "    </tr>\n",
              "  </thead>\n",
              "  <tbody>\n",
              "    <tr>\n",
              "      <th>0</th>\n",
              "      <td>NaN</td>\n",
              "      <td>0</td>\n",
              "      <td>1</td>\n",
              "      <td>0</td>\n",
              "      <td>0</td>\n",
              "      <td>0</td>\n",
              "      <td>0</td>\n",
              "      <td>0</td>\n",
              "      <td>0</td>\n",
              "      <td>0</td>\n",
              "    </tr>\n",
              "    <tr>\n",
              "      <th>1</th>\n",
              "      <td>3D</td>\n",
              "      <td>0</td>\n",
              "      <td>0</td>\n",
              "      <td>0</td>\n",
              "      <td>0</td>\n",
              "      <td>0</td>\n",
              "      <td>1</td>\n",
              "      <td>0</td>\n",
              "      <td>0</td>\n",
              "      <td>0</td>\n",
              "    </tr>\n",
              "    <tr>\n",
              "      <th>2</th>\n",
              "      <td>3D Printing</td>\n",
              "      <td>0</td>\n",
              "      <td>0</td>\n",
              "      <td>0</td>\n",
              "      <td>0</td>\n",
              "      <td>0</td>\n",
              "      <td>1</td>\n",
              "      <td>0</td>\n",
              "      <td>0</td>\n",
              "      <td>0</td>\n",
              "    </tr>\n",
              "    <tr>\n",
              "      <th>3</th>\n",
              "      <td>3D Technology</td>\n",
              "      <td>0</td>\n",
              "      <td>0</td>\n",
              "      <td>0</td>\n",
              "      <td>0</td>\n",
              "      <td>0</td>\n",
              "      <td>1</td>\n",
              "      <td>0</td>\n",
              "      <td>0</td>\n",
              "      <td>0</td>\n",
              "    </tr>\n",
              "    <tr>\n",
              "      <th>4</th>\n",
              "      <td>Accounting</td>\n",
              "      <td>0</td>\n",
              "      <td>0</td>\n",
              "      <td>0</td>\n",
              "      <td>0</td>\n",
              "      <td>0</td>\n",
              "      <td>0</td>\n",
              "      <td>0</td>\n",
              "      <td>0</td>\n",
              "      <td>1</td>\n",
              "    </tr>\n",
              "  </tbody>\n",
              "</table>\n",
              "</div>"
            ],
            "text/plain": [
              "   category_list  Automotive & Sports  Blanks  Cleantech / Semiconductors  \\\n",
              "0            NaN                    0       1                           0   \n",
              "1             3D                    0       0                           0   \n",
              "2    3D Printing                    0       0                           0   \n",
              "3  3D Technology                    0       0                           0   \n",
              "4     Accounting                    0       0                           0   \n",
              "\n",
              "   Entertainment  Health  Manufacturing  News, Search and Messaging  Others  \\\n",
              "0              0       0              0                           0       0   \n",
              "1              0       0              1                           0       0   \n",
              "2              0       0              1                           0       0   \n",
              "3              0       0              1                           0       0   \n",
              "4              0       0              0                           0       0   \n",
              "\n",
              "   Social, Finance, Analytics, Advertising  \n",
              "0                                        0  \n",
              "1                                        0  \n",
              "2                                        0  \n",
              "3                                        0  \n",
              "4                                        1  "
            ]
          },
          "execution_count": 49,
          "metadata": {},
          "output_type": "execute_result"
        }
      ],
      "source": [
        "# read mapping file\n",
        "map = pd.read_csv(\"map.csv\", sep=\",\")\n",
        "map.head()"
      ]
    },
    {
      "cell_type": "code",
      "execution_count": null,
      "metadata": {
        "id": "sNjK79efgDXS",
        "outputId": "1610e73d-4d6e-4fad-c0e2-d4d513aeead3"
      },
      "outputs": [
        {
          "data": {
            "text/plain": [
              "category_list                              1\n",
              "Automotive & Sports                        0\n",
              "Blanks                                     0\n",
              "Cleantech / Semiconductors                 0\n",
              "Entertainment                              0\n",
              "Health                                     0\n",
              "Manufacturing                              0\n",
              "News, Search and Messaging                 0\n",
              "Others                                     0\n",
              "Social, Finance, Analytics, Advertising    0\n",
              "dtype: int64"
            ]
          },
          "execution_count": 50,
          "metadata": {},
          "output_type": "execute_result"
        }
      ],
      "source": [
        "# missing values in mapping file\n",
        "map.isnull().sum()"
      ]
    },
    {
      "cell_type": "code",
      "execution_count": null,
      "metadata": {
        "id": "YRJYcw6OgDXS",
        "outputId": "2a6ea9f4-9ea7-4e28-e8ec-d0413c465fa6"
      },
      "outputs": [
        {
          "data": {
            "text/plain": [
              "category_list                              0\n",
              "Automotive & Sports                        0\n",
              "Blanks                                     0\n",
              "Cleantech / Semiconductors                 0\n",
              "Entertainment                              0\n",
              "Health                                     0\n",
              "Manufacturing                              0\n",
              "News, Search and Messaging                 0\n",
              "Others                                     0\n",
              "Social, Finance, Analytics, Advertising    0\n",
              "dtype: int64"
            ]
          },
          "execution_count": 51,
          "metadata": {},
          "output_type": "execute_result"
        }
      ],
      "source": [
        "# remove the row with missing values\n",
        "map.dropna(inplace=True)\n",
        "map.isnull().sum()"
      ]
    },
    {
      "cell_type": "code",
      "execution_count": null,
      "metadata": {
        "id": "EswNfsRRgDXT",
        "outputId": "b858723d-4d9e-44de-89e1-c070a8dc6cae"
      },
      "outputs": [
        {
          "data": {
            "text/html": [
              "<div>\n",
              "<style scoped>\n",
              "    .dataframe tbody tr th:only-of-type {\n",
              "        vertical-align: middle;\n",
              "    }\n",
              "\n",
              "    .dataframe tbody tr th {\n",
              "        vertical-align: top;\n",
              "    }\n",
              "\n",
              "    .dataframe thead th {\n",
              "        text-align: right;\n",
              "    }\n",
              "</style>\n",
              "<table border=\"1\" class=\"dataframe\">\n",
              "  <thead>\n",
              "    <tr style=\"text-align: right;\">\n",
              "      <th></th>\n",
              "      <th>category_list</th>\n",
              "      <th>Automotive &amp; Sports</th>\n",
              "      <th>Blanks</th>\n",
              "      <th>Cleantech / Semiconductors</th>\n",
              "      <th>Entertainment</th>\n",
              "      <th>Health</th>\n",
              "      <th>Manufacturing</th>\n",
              "      <th>News, Search and Messaging</th>\n",
              "      <th>Others</th>\n",
              "      <th>Social, Finance, Analytics, Advertising</th>\n",
              "    </tr>\n",
              "  </thead>\n",
              "  <tbody>\n",
              "    <tr>\n",
              "      <th>1</th>\n",
              "      <td>3D</td>\n",
              "      <td>0</td>\n",
              "      <td>0</td>\n",
              "      <td>0</td>\n",
              "      <td>0</td>\n",
              "      <td>0</td>\n",
              "      <td>1</td>\n",
              "      <td>0</td>\n",
              "      <td>0</td>\n",
              "      <td>0</td>\n",
              "    </tr>\n",
              "    <tr>\n",
              "      <th>2</th>\n",
              "      <td>3D PRINTING</td>\n",
              "      <td>0</td>\n",
              "      <td>0</td>\n",
              "      <td>0</td>\n",
              "      <td>0</td>\n",
              "      <td>0</td>\n",
              "      <td>1</td>\n",
              "      <td>0</td>\n",
              "      <td>0</td>\n",
              "      <td>0</td>\n",
              "    </tr>\n",
              "    <tr>\n",
              "      <th>3</th>\n",
              "      <td>3D TECHNOLOGY</td>\n",
              "      <td>0</td>\n",
              "      <td>0</td>\n",
              "      <td>0</td>\n",
              "      <td>0</td>\n",
              "      <td>0</td>\n",
              "      <td>1</td>\n",
              "      <td>0</td>\n",
              "      <td>0</td>\n",
              "      <td>0</td>\n",
              "    </tr>\n",
              "    <tr>\n",
              "      <th>4</th>\n",
              "      <td>ACCOUNTING</td>\n",
              "      <td>0</td>\n",
              "      <td>0</td>\n",
              "      <td>0</td>\n",
              "      <td>0</td>\n",
              "      <td>0</td>\n",
              "      <td>0</td>\n",
              "      <td>0</td>\n",
              "      <td>0</td>\n",
              "      <td>1</td>\n",
              "    </tr>\n",
              "    <tr>\n",
              "      <th>5</th>\n",
              "      <td>ACTIVE LIFESTYLE</td>\n",
              "      <td>0</td>\n",
              "      <td>0</td>\n",
              "      <td>0</td>\n",
              "      <td>0</td>\n",
              "      <td>1</td>\n",
              "      <td>0</td>\n",
              "      <td>0</td>\n",
              "      <td>0</td>\n",
              "      <td>0</td>\n",
              "    </tr>\n",
              "  </tbody>\n",
              "</table>\n",
              "</div>"
            ],
            "text/plain": [
              "      category_list  Automotive & Sports  Blanks  Cleantech / Semiconductors  \\\n",
              "1                3D                    0       0                           0   \n",
              "2       3D PRINTING                    0       0                           0   \n",
              "3     3D TECHNOLOGY                    0       0                           0   \n",
              "4        ACCOUNTING                    0       0                           0   \n",
              "5  ACTIVE LIFESTYLE                    0       0                           0   \n",
              "\n",
              "   Entertainment  Health  Manufacturing  News, Search and Messaging  Others  \\\n",
              "1              0       0              1                           0       0   \n",
              "2              0       0              1                           0       0   \n",
              "3              0       0              1                           0       0   \n",
              "4              0       0              0                           0       0   \n",
              "5              0       1              0                           0       0   \n",
              "\n",
              "   Social, Finance, Analytics, Advertising  \n",
              "1                                        0  \n",
              "2                                        0  \n",
              "3                                        0  \n",
              "4                                        1  \n",
              "5                                        0  "
            ]
          },
          "execution_count": 52,
          "metadata": {},
          "output_type": "execute_result"
        }
      ],
      "source": [
        "# converting common columns to Uppercase\n",
        "map['category_list'] = map['category_list'].str.upper()\n",
        "map.head()"
      ]
    },
    {
      "cell_type": "code",
      "execution_count": null,
      "metadata": {
        "id": "w_hFsq1xgDXT",
        "outputId": "5a37ea2f-e630-4c66-dbad-bd73eb736c55"
      },
      "outputs": [
        {
          "data": {
            "text/html": [
              "<div>\n",
              "<style scoped>\n",
              "    .dataframe tbody tr th:only-of-type {\n",
              "        vertical-align: middle;\n",
              "    }\n",
              "\n",
              "    .dataframe tbody tr th {\n",
              "        vertical-align: top;\n",
              "    }\n",
              "\n",
              "    .dataframe thead th {\n",
              "        text-align: right;\n",
              "    }\n",
              "</style>\n",
              "<table border=\"1\" class=\"dataframe\">\n",
              "  <thead>\n",
              "    <tr style=\"text-align: right;\">\n",
              "      <th></th>\n",
              "      <th>permalink</th>\n",
              "      <th>name</th>\n",
              "      <th>status</th>\n",
              "      <th>country_code</th>\n",
              "      <th>funding_round_permalink</th>\n",
              "      <th>funding_round_type</th>\n",
              "      <th>funded_at</th>\n",
              "      <th>raised_amount_usd</th>\n",
              "      <th>main_category</th>\n",
              "    </tr>\n",
              "  </thead>\n",
              "  <tbody>\n",
              "    <tr>\n",
              "      <th>8</th>\n",
              "      <td>/ORGANIZATION/0XDATA</td>\n",
              "      <td>H2O.ai</td>\n",
              "      <td>operating</td>\n",
              "      <td>USA</td>\n",
              "      <td>/funding-round/3bb2ee4a2d89251a10aaa735b1180e44</td>\n",
              "      <td>venture</td>\n",
              "      <td>09-11-2015</td>\n",
              "      <td>20000000.0</td>\n",
              "      <td>ANALYTICS</td>\n",
              "    </tr>\n",
              "    <tr>\n",
              "      <th>9</th>\n",
              "      <td>/ORGANIZATION/0XDATA</td>\n",
              "      <td>H2O.ai</td>\n",
              "      <td>operating</td>\n",
              "      <td>USA</td>\n",
              "      <td>/funding-round/ae2a174c06517c2394aed45006322a7e</td>\n",
              "      <td>venture</td>\n",
              "      <td>03-01-2013</td>\n",
              "      <td>1700000.0</td>\n",
              "      <td>ANALYTICS</td>\n",
              "    </tr>\n",
              "    <tr>\n",
              "      <th>10</th>\n",
              "      <td>/ORGANIZATION/0XDATA</td>\n",
              "      <td>H2O.ai</td>\n",
              "      <td>operating</td>\n",
              "      <td>USA</td>\n",
              "      <td>/funding-round/e1cfcbe1bdf4c70277c5f29a3482f24e</td>\n",
              "      <td>venture</td>\n",
              "      <td>19-07-2014</td>\n",
              "      <td>8900000.0</td>\n",
              "      <td>ANALYTICS</td>\n",
              "    </tr>\n",
              "    <tr>\n",
              "      <th>49</th>\n",
              "      <td>/ORGANIZATION/100PLUS</td>\n",
              "      <td>100Plus</td>\n",
              "      <td>acquired</td>\n",
              "      <td>USA</td>\n",
              "      <td>/funding-round/b5facb0d9dea2f0352b5834892c88c53</td>\n",
              "      <td>venture</td>\n",
              "      <td>02-11-2011</td>\n",
              "      <td>500000.0</td>\n",
              "      <td>ANALYTICS</td>\n",
              "    </tr>\n",
              "    <tr>\n",
              "      <th>75</th>\n",
              "      <td>/ORGANIZATION/123FENG-COM</td>\n",
              "      <td>123Feng.Com</td>\n",
              "      <td>operating</td>\n",
              "      <td>CHN</td>\n",
              "      <td>/funding-round/9d83084d87dc63a309c9a6fe9bf59d1b</td>\n",
              "      <td>venture</td>\n",
              "      <td>27-10-2015</td>\n",
              "      <td>13000000.0</td>\n",
              "      <td>999</td>\n",
              "    </tr>\n",
              "    <tr>\n",
              "      <th>...</th>\n",
              "      <td>...</td>\n",
              "      <td>...</td>\n",
              "      <td>...</td>\n",
              "      <td>...</td>\n",
              "      <td>...</td>\n",
              "      <td>...</td>\n",
              "      <td>...</td>\n",
              "      <td>...</td>\n",
              "      <td>...</td>\n",
              "    </tr>\n",
              "    <tr>\n",
              "      <th>94691</th>\n",
              "      <td>/ORGANIZATION/ZOOPLA</td>\n",
              "      <td>Zoopla</td>\n",
              "      <td>ipo</td>\n",
              "      <td>GBR</td>\n",
              "      <td>/funding-round/98da1f441a55c9a9629a256828923e38</td>\n",
              "      <td>venture</td>\n",
              "      <td>19-01-2009</td>\n",
              "      <td>5440000.0</td>\n",
              "      <td>PROPERTY MANAGEMENT</td>\n",
              "    </tr>\n",
              "    <tr>\n",
              "      <th>94714</th>\n",
              "      <td>/ORGANIZATION/ZOPA</td>\n",
              "      <td>Zopa</td>\n",
              "      <td>operating</td>\n",
              "      <td>GBR</td>\n",
              "      <td>/funding-round/2a55d435c3433d8f903526c050c19361</td>\n",
              "      <td>venture</td>\n",
              "      <td>20-03-2007</td>\n",
              "      <td>12900000.0</td>\n",
              "      <td>FINANCE</td>\n",
              "    </tr>\n",
              "    <tr>\n",
              "      <th>94715</th>\n",
              "      <td>/ORGANIZATION/ZOPA</td>\n",
              "      <td>Zopa</td>\n",
              "      <td>operating</td>\n",
              "      <td>GBR</td>\n",
              "      <td>/funding-round/4b0740cb83da8d2af9d221e5455f8923</td>\n",
              "      <td>venture</td>\n",
              "      <td>01-03-2006</td>\n",
              "      <td>15000000.0</td>\n",
              "      <td>FINANCE</td>\n",
              "    </tr>\n",
              "    <tr>\n",
              "      <th>94716</th>\n",
              "      <td>/ORGANIZATION/ZOPA</td>\n",
              "      <td>Zopa</td>\n",
              "      <td>operating</td>\n",
              "      <td>GBR</td>\n",
              "      <td>/funding-round/54dbfbd899caf7d1d4b2b7676065f303</td>\n",
              "      <td>venture</td>\n",
              "      <td>01-07-2006</td>\n",
              "      <td>5000000.0</td>\n",
              "      <td>FINANCE</td>\n",
              "    </tr>\n",
              "    <tr>\n",
              "      <th>94717</th>\n",
              "      <td>/ORGANIZATION/ZOPA</td>\n",
              "      <td>Zopa</td>\n",
              "      <td>operating</td>\n",
              "      <td>GBR</td>\n",
              "      <td>/funding-round/720b9f244c1f4d4fed63361d3bb0aa22</td>\n",
              "      <td>venture</td>\n",
              "      <td>01-01-2005</td>\n",
              "      <td>1000000.0</td>\n",
              "      <td>FINANCE</td>\n",
              "    </tr>\n",
              "  </tbody>\n",
              "</table>\n",
              "<p>2993 rows × 9 columns</p>\n",
              "</div>"
            ],
            "text/plain": [
              "                       permalink         name     status country_code  \\\n",
              "8           /ORGANIZATION/0XDATA       H2O.ai  operating          USA   \n",
              "9           /ORGANIZATION/0XDATA       H2O.ai  operating          USA   \n",
              "10          /ORGANIZATION/0XDATA       H2O.ai  operating          USA   \n",
              "49         /ORGANIZATION/100PLUS      100Plus   acquired          USA   \n",
              "75     /ORGANIZATION/123FENG-COM  123Feng.Com  operating          CHN   \n",
              "...                          ...          ...        ...          ...   \n",
              "94691       /ORGANIZATION/ZOOPLA       Zoopla        ipo          GBR   \n",
              "94714         /ORGANIZATION/ZOPA         Zopa  operating          GBR   \n",
              "94715         /ORGANIZATION/ZOPA         Zopa  operating          GBR   \n",
              "94716         /ORGANIZATION/ZOPA         Zopa  operating          GBR   \n",
              "94717         /ORGANIZATION/ZOPA         Zopa  operating          GBR   \n",
              "\n",
              "                               funding_round_permalink funding_round_type  \\\n",
              "8      /funding-round/3bb2ee4a2d89251a10aaa735b1180e44            venture   \n",
              "9      /funding-round/ae2a174c06517c2394aed45006322a7e            venture   \n",
              "10     /funding-round/e1cfcbe1bdf4c70277c5f29a3482f24e            venture   \n",
              "49     /funding-round/b5facb0d9dea2f0352b5834892c88c53            venture   \n",
              "75     /funding-round/9d83084d87dc63a309c9a6fe9bf59d1b            venture   \n",
              "...                                                ...                ...   \n",
              "94691  /funding-round/98da1f441a55c9a9629a256828923e38            venture   \n",
              "94714  /funding-round/2a55d435c3433d8f903526c050c19361            venture   \n",
              "94715  /funding-round/4b0740cb83da8d2af9d221e5455f8923            venture   \n",
              "94716  /funding-round/54dbfbd899caf7d1d4b2b7676065f303            venture   \n",
              "94717  /funding-round/720b9f244c1f4d4fed63361d3bb0aa22            venture   \n",
              "\n",
              "        funded_at  raised_amount_usd        main_category  \n",
              "8      09-11-2015         20000000.0            ANALYTICS  \n",
              "9      03-01-2013          1700000.0            ANALYTICS  \n",
              "10     19-07-2014          8900000.0            ANALYTICS  \n",
              "49     02-11-2011           500000.0            ANALYTICS  \n",
              "75     27-10-2015         13000000.0                  999  \n",
              "...           ...                ...                  ...  \n",
              "94691  19-01-2009          5440000.0  PROPERTY MANAGEMENT  \n",
              "94714  20-03-2007         12900000.0              FINANCE  \n",
              "94715  01-03-2006         15000000.0              FINANCE  \n",
              "94716  01-07-2006          5000000.0              FINANCE  \n",
              "94717  01-01-2005          1000000.0              FINANCE  \n",
              "\n",
              "[2993 rows x 9 columns]"
            ]
          },
          "execution_count": 53,
          "metadata": {},
          "output_type": "execute_result"
        }
      ],
      "source": [
        "# values in main_category column in df1 which are not in the category_list column in map file\n",
        "\n",
        "df1[~df1['main_category'].isin(map['category_list'])]"
      ]
    },
    {
      "cell_type": "code",
      "execution_count": null,
      "metadata": {
        "id": "8KTCvsKigDXT",
        "outputId": "bb3dd859-2c6f-4989-f985-4ac9ddb2e575"
      },
      "outputs": [
        {
          "data": {
            "text/html": [
              "<div>\n",
              "<style scoped>\n",
              "    .dataframe tbody tr th:only-of-type {\n",
              "        vertical-align: middle;\n",
              "    }\n",
              "\n",
              "    .dataframe tbody tr th {\n",
              "        vertical-align: top;\n",
              "    }\n",
              "\n",
              "    .dataframe thead th {\n",
              "        text-align: right;\n",
              "    }\n",
              "</style>\n",
              "<table border=\"1\" class=\"dataframe\">\n",
              "  <thead>\n",
              "    <tr style=\"text-align: right;\">\n",
              "      <th></th>\n",
              "      <th>category_list</th>\n",
              "      <th>Automotive &amp; Sports</th>\n",
              "      <th>Blanks</th>\n",
              "      <th>Cleantech / Semiconductors</th>\n",
              "      <th>Entertainment</th>\n",
              "      <th>Health</th>\n",
              "      <th>Manufacturing</th>\n",
              "      <th>News, Search and Messaging</th>\n",
              "      <th>Others</th>\n",
              "      <th>Social, Finance, Analytics, Advertising</th>\n",
              "    </tr>\n",
              "  </thead>\n",
              "  <tbody>\n",
              "    <tr>\n",
              "      <th>16</th>\n",
              "      <td>AIR POLLUTION CONTROL</td>\n",
              "      <td>0</td>\n",
              "      <td>0</td>\n",
              "      <td>1</td>\n",
              "      <td>0</td>\n",
              "      <td>0</td>\n",
              "      <td>0</td>\n",
              "      <td>0</td>\n",
              "      <td>0</td>\n",
              "      <td>0</td>\n",
              "    </tr>\n",
              "    <tr>\n",
              "      <th>20</th>\n",
              "      <td>ALTER0TIVE MEDICINE</td>\n",
              "      <td>0</td>\n",
              "      <td>0</td>\n",
              "      <td>0</td>\n",
              "      <td>0</td>\n",
              "      <td>1</td>\n",
              "      <td>0</td>\n",
              "      <td>0</td>\n",
              "      <td>0</td>\n",
              "      <td>0</td>\n",
              "    </tr>\n",
              "    <tr>\n",
              "      <th>22</th>\n",
              "      <td>A0LYTICS</td>\n",
              "      <td>0</td>\n",
              "      <td>0</td>\n",
              "      <td>0</td>\n",
              "      <td>0</td>\n",
              "      <td>0</td>\n",
              "      <td>0</td>\n",
              "      <td>0</td>\n",
              "      <td>0</td>\n",
              "      <td>1</td>\n",
              "    </tr>\n",
              "    <tr>\n",
              "      <th>33</th>\n",
              "      <td>AQUACULTURE</td>\n",
              "      <td>0</td>\n",
              "      <td>0</td>\n",
              "      <td>1</td>\n",
              "      <td>0</td>\n",
              "      <td>0</td>\n",
              "      <td>0</td>\n",
              "      <td>0</td>\n",
              "      <td>0</td>\n",
              "      <td>0</td>\n",
              "    </tr>\n",
              "    <tr>\n",
              "      <th>59</th>\n",
              "      <td>BIG DATA A0LYTICS</td>\n",
              "      <td>0</td>\n",
              "      <td>0</td>\n",
              "      <td>0</td>\n",
              "      <td>0</td>\n",
              "      <td>0</td>\n",
              "      <td>0</td>\n",
              "      <td>0</td>\n",
              "      <td>0</td>\n",
              "      <td>1</td>\n",
              "    </tr>\n",
              "    <tr>\n",
              "      <th>...</th>\n",
              "      <td>...</td>\n",
              "      <td>...</td>\n",
              "      <td>...</td>\n",
              "      <td>...</td>\n",
              "      <td>...</td>\n",
              "      <td>...</td>\n",
              "      <td>...</td>\n",
              "      <td>...</td>\n",
              "      <td>...</td>\n",
              "      <td>...</td>\n",
              "    </tr>\n",
              "    <tr>\n",
              "      <th>670</th>\n",
              "      <td>VIRTUAL WORKFORCES</td>\n",
              "      <td>0</td>\n",
              "      <td>0</td>\n",
              "      <td>0</td>\n",
              "      <td>1</td>\n",
              "      <td>0</td>\n",
              "      <td>0</td>\n",
              "      <td>0</td>\n",
              "      <td>0</td>\n",
              "      <td>0</td>\n",
              "    </tr>\n",
              "    <tr>\n",
              "      <th>672</th>\n",
              "      <td>WASTE MA0GEMENT</td>\n",
              "      <td>0</td>\n",
              "      <td>0</td>\n",
              "      <td>1</td>\n",
              "      <td>0</td>\n",
              "      <td>0</td>\n",
              "      <td>0</td>\n",
              "      <td>0</td>\n",
              "      <td>0</td>\n",
              "      <td>0</td>\n",
              "    </tr>\n",
              "    <tr>\n",
              "      <th>682</th>\n",
              "      <td>WEDDINGS</td>\n",
              "      <td>0</td>\n",
              "      <td>0</td>\n",
              "      <td>0</td>\n",
              "      <td>1</td>\n",
              "      <td>0</td>\n",
              "      <td>0</td>\n",
              "      <td>0</td>\n",
              "      <td>0</td>\n",
              "      <td>0</td>\n",
              "    </tr>\n",
              "    <tr>\n",
              "      <th>683</th>\n",
              "      <td>WHOLESALE</td>\n",
              "      <td>0</td>\n",
              "      <td>0</td>\n",
              "      <td>0</td>\n",
              "      <td>0</td>\n",
              "      <td>0</td>\n",
              "      <td>0</td>\n",
              "      <td>0</td>\n",
              "      <td>1</td>\n",
              "      <td>0</td>\n",
              "    </tr>\n",
              "    <tr>\n",
              "      <th>686</th>\n",
              "      <td>WOMEN</td>\n",
              "      <td>0</td>\n",
              "      <td>0</td>\n",
              "      <td>0</td>\n",
              "      <td>0</td>\n",
              "      <td>0</td>\n",
              "      <td>0</td>\n",
              "      <td>0</td>\n",
              "      <td>1</td>\n",
              "      <td>0</td>\n",
              "    </tr>\n",
              "  </tbody>\n",
              "</table>\n",
              "<p>163 rows × 10 columns</p>\n",
              "</div>"
            ],
            "text/plain": [
              "             category_list  Automotive & Sports  Blanks  \\\n",
              "16   AIR POLLUTION CONTROL                    0       0   \n",
              "20     ALTER0TIVE MEDICINE                    0       0   \n",
              "22                A0LYTICS                    0       0   \n",
              "33             AQUACULTURE                    0       0   \n",
              "59       BIG DATA A0LYTICS                    0       0   \n",
              "..                     ...                  ...     ...   \n",
              "670     VIRTUAL WORKFORCES                    0       0   \n",
              "672        WASTE MA0GEMENT                    0       0   \n",
              "682               WEDDINGS                    0       0   \n",
              "683              WHOLESALE                    0       0   \n",
              "686                  WOMEN                    0       0   \n",
              "\n",
              "     Cleantech / Semiconductors  Entertainment  Health  Manufacturing  \\\n",
              "16                            1              0       0              0   \n",
              "20                            0              0       1              0   \n",
              "22                            0              0       0              0   \n",
              "33                            1              0       0              0   \n",
              "59                            0              0       0              0   \n",
              "..                          ...            ...     ...            ...   \n",
              "670                           0              1       0              0   \n",
              "672                           1              0       0              0   \n",
              "682                           0              1       0              0   \n",
              "683                           0              0       0              0   \n",
              "686                           0              0       0              0   \n",
              "\n",
              "     News, Search and Messaging  Others  \\\n",
              "16                            0       0   \n",
              "20                            0       0   \n",
              "22                            0       0   \n",
              "33                            0       0   \n",
              "59                            0       0   \n",
              "..                          ...     ...   \n",
              "670                           0       0   \n",
              "672                           0       0   \n",
              "682                           0       0   \n",
              "683                           0       1   \n",
              "686                           0       1   \n",
              "\n",
              "     Social, Finance, Analytics, Advertising  \n",
              "16                                         0  \n",
              "20                                         0  \n",
              "22                                         1  \n",
              "33                                         0  \n",
              "59                                         1  \n",
              "..                                       ...  \n",
              "670                                        0  \n",
              "672                                        0  \n",
              "682                                        0  \n",
              "683                                        0  \n",
              "686                                        0  \n",
              "\n",
              "[163 rows x 10 columns]"
            ]
          },
          "execution_count": 54,
          "metadata": {},
          "output_type": "execute_result"
        }
      ],
      "source": [
        "# values in the category_list column which are not in main_category column\n",
        "map[~map['category_list'].isin(df1['main_category'])]"
      ]
    },
    {
      "cell_type": "markdown",
      "metadata": {
        "id": "2rHTRhoJgDXT"
      },
      "source": [
        "There are sectors named alter0tive, a0lytics, waste ma0gement, etc. this problem can be treated by replacing '0' with 'na' in the category_list column."
      ]
    },
    {
      "cell_type": "code",
      "execution_count": null,
      "metadata": {
        "id": "I71pnUzvgDXT",
        "outputId": "bb86ea26-bfb4-4628-8dd0-b12a9f29d6e7"
      },
      "outputs": [
        {
          "data": {
            "text/html": [
              "<div>\n",
              "<style scoped>\n",
              "    .dataframe tbody tr th:only-of-type {\n",
              "        vertical-align: middle;\n",
              "    }\n",
              "\n",
              "    .dataframe tbody tr th {\n",
              "        vertical-align: top;\n",
              "    }\n",
              "\n",
              "    .dataframe thead th {\n",
              "        text-align: right;\n",
              "    }\n",
              "</style>\n",
              "<table border=\"1\" class=\"dataframe\">\n",
              "  <thead>\n",
              "    <tr style=\"text-align: right;\">\n",
              "      <th></th>\n",
              "      <th>category_list</th>\n",
              "      <th>Automotive &amp; Sports</th>\n",
              "      <th>Blanks</th>\n",
              "      <th>Cleantech / Semiconductors</th>\n",
              "      <th>Entertainment</th>\n",
              "      <th>Health</th>\n",
              "      <th>Manufacturing</th>\n",
              "      <th>News, Search and Messaging</th>\n",
              "      <th>Others</th>\n",
              "      <th>Social, Finance, Analytics, Advertising</th>\n",
              "    </tr>\n",
              "  </thead>\n",
              "  <tbody>\n",
              "    <tr>\n",
              "      <th>16</th>\n",
              "      <td>AIR POLLUTION CONTROL</td>\n",
              "      <td>0</td>\n",
              "      <td>0</td>\n",
              "      <td>1</td>\n",
              "      <td>0</td>\n",
              "      <td>0</td>\n",
              "      <td>0</td>\n",
              "      <td>0</td>\n",
              "      <td>0</td>\n",
              "      <td>0</td>\n",
              "    </tr>\n",
              "    <tr>\n",
              "      <th>20</th>\n",
              "      <td>ALTERnaTIVE MEDICINE</td>\n",
              "      <td>0</td>\n",
              "      <td>0</td>\n",
              "      <td>0</td>\n",
              "      <td>0</td>\n",
              "      <td>1</td>\n",
              "      <td>0</td>\n",
              "      <td>0</td>\n",
              "      <td>0</td>\n",
              "      <td>0</td>\n",
              "    </tr>\n",
              "    <tr>\n",
              "      <th>22</th>\n",
              "      <td>AnaLYTICS</td>\n",
              "      <td>0</td>\n",
              "      <td>0</td>\n",
              "      <td>0</td>\n",
              "      <td>0</td>\n",
              "      <td>0</td>\n",
              "      <td>0</td>\n",
              "      <td>0</td>\n",
              "      <td>0</td>\n",
              "      <td>1</td>\n",
              "    </tr>\n",
              "    <tr>\n",
              "      <th>33</th>\n",
              "      <td>AQUACULTURE</td>\n",
              "      <td>0</td>\n",
              "      <td>0</td>\n",
              "      <td>1</td>\n",
              "      <td>0</td>\n",
              "      <td>0</td>\n",
              "      <td>0</td>\n",
              "      <td>0</td>\n",
              "      <td>0</td>\n",
              "      <td>0</td>\n",
              "    </tr>\n",
              "    <tr>\n",
              "      <th>59</th>\n",
              "      <td>BIG DATA AnaLYTICS</td>\n",
              "      <td>0</td>\n",
              "      <td>0</td>\n",
              "      <td>0</td>\n",
              "      <td>0</td>\n",
              "      <td>0</td>\n",
              "      <td>0</td>\n",
              "      <td>0</td>\n",
              "      <td>0</td>\n",
              "      <td>1</td>\n",
              "    </tr>\n",
              "    <tr>\n",
              "      <th>...</th>\n",
              "      <td>...</td>\n",
              "      <td>...</td>\n",
              "      <td>...</td>\n",
              "      <td>...</td>\n",
              "      <td>...</td>\n",
              "      <td>...</td>\n",
              "      <td>...</td>\n",
              "      <td>...</td>\n",
              "      <td>...</td>\n",
              "      <td>...</td>\n",
              "    </tr>\n",
              "    <tr>\n",
              "      <th>670</th>\n",
              "      <td>VIRTUAL WORKFORCES</td>\n",
              "      <td>0</td>\n",
              "      <td>0</td>\n",
              "      <td>0</td>\n",
              "      <td>1</td>\n",
              "      <td>0</td>\n",
              "      <td>0</td>\n",
              "      <td>0</td>\n",
              "      <td>0</td>\n",
              "      <td>0</td>\n",
              "    </tr>\n",
              "    <tr>\n",
              "      <th>672</th>\n",
              "      <td>WASTE MAnaGEMENT</td>\n",
              "      <td>0</td>\n",
              "      <td>0</td>\n",
              "      <td>1</td>\n",
              "      <td>0</td>\n",
              "      <td>0</td>\n",
              "      <td>0</td>\n",
              "      <td>0</td>\n",
              "      <td>0</td>\n",
              "      <td>0</td>\n",
              "    </tr>\n",
              "    <tr>\n",
              "      <th>682</th>\n",
              "      <td>WEDDINGS</td>\n",
              "      <td>0</td>\n",
              "      <td>0</td>\n",
              "      <td>0</td>\n",
              "      <td>1</td>\n",
              "      <td>0</td>\n",
              "      <td>0</td>\n",
              "      <td>0</td>\n",
              "      <td>0</td>\n",
              "      <td>0</td>\n",
              "    </tr>\n",
              "    <tr>\n",
              "      <th>683</th>\n",
              "      <td>WHOLESALE</td>\n",
              "      <td>0</td>\n",
              "      <td>0</td>\n",
              "      <td>0</td>\n",
              "      <td>0</td>\n",
              "      <td>0</td>\n",
              "      <td>0</td>\n",
              "      <td>0</td>\n",
              "      <td>1</td>\n",
              "      <td>0</td>\n",
              "    </tr>\n",
              "    <tr>\n",
              "      <th>686</th>\n",
              "      <td>WOMEN</td>\n",
              "      <td>0</td>\n",
              "      <td>0</td>\n",
              "      <td>0</td>\n",
              "      <td>0</td>\n",
              "      <td>0</td>\n",
              "      <td>0</td>\n",
              "      <td>0</td>\n",
              "      <td>1</td>\n",
              "      <td>0</td>\n",
              "    </tr>\n",
              "  </tbody>\n",
              "</table>\n",
              "<p>164 rows × 10 columns</p>\n",
              "</div>"
            ],
            "text/plain": [
              "             category_list  Automotive & Sports  Blanks  \\\n",
              "16   AIR POLLUTION CONTROL                    0       0   \n",
              "20    ALTERnaTIVE MEDICINE                    0       0   \n",
              "22               AnaLYTICS                    0       0   \n",
              "33             AQUACULTURE                    0       0   \n",
              "59      BIG DATA AnaLYTICS                    0       0   \n",
              "..                     ...                  ...     ...   \n",
              "670     VIRTUAL WORKFORCES                    0       0   \n",
              "672       WASTE MAnaGEMENT                    0       0   \n",
              "682               WEDDINGS                    0       0   \n",
              "683              WHOLESALE                    0       0   \n",
              "686                  WOMEN                    0       0   \n",
              "\n",
              "     Cleantech / Semiconductors  Entertainment  Health  Manufacturing  \\\n",
              "16                            1              0       0              0   \n",
              "20                            0              0       1              0   \n",
              "22                            0              0       0              0   \n",
              "33                            1              0       0              0   \n",
              "59                            0              0       0              0   \n",
              "..                          ...            ...     ...            ...   \n",
              "670                           0              1       0              0   \n",
              "672                           1              0       0              0   \n",
              "682                           0              1       0              0   \n",
              "683                           0              0       0              0   \n",
              "686                           0              0       0              0   \n",
              "\n",
              "     News, Search and Messaging  Others  \\\n",
              "16                            0       0   \n",
              "20                            0       0   \n",
              "22                            0       0   \n",
              "33                            0       0   \n",
              "59                            0       0   \n",
              "..                          ...     ...   \n",
              "670                           0       0   \n",
              "672                           0       0   \n",
              "682                           0       0   \n",
              "683                           0       1   \n",
              "686                           0       1   \n",
              "\n",
              "     Social, Finance, Analytics, Advertising  \n",
              "16                                         0  \n",
              "20                                         0  \n",
              "22                                         1  \n",
              "33                                         0  \n",
              "59                                         1  \n",
              "..                                       ...  \n",
              "670                                        0  \n",
              "672                                        0  \n",
              "682                                        0  \n",
              "683                                        0  \n",
              "686                                        0  \n",
              "\n",
              "[164 rows x 10 columns]"
            ]
          },
          "execution_count": 55,
          "metadata": {},
          "output_type": "execute_result"
        }
      ],
      "source": [
        "# replacing '0' with 'na'\n",
        "map['category_list'] = map['category_list'].apply(lambda x: x.replace('0', 'na'))\n",
        "map[~map['category_list'].isin(df1['main_category'])]"
      ]
    },
    {
      "cell_type": "markdown",
      "metadata": {
        "id": "8HCKU5ljgDXT"
      },
      "source": [
        "The problem got fixed. Now, we're going to merge \"map\" and \"df1\"."
      ]
    },
    {
      "cell_type": "code",
      "execution_count": null,
      "metadata": {
        "id": "qQqWGsGegDXU",
        "outputId": "04c14d6d-b018-4fc5-d744-7ea8782a25ff"
      },
      "outputs": [
        {
          "data": {
            "text/html": [
              "<div>\n",
              "<style scoped>\n",
              "    .dataframe tbody tr th:only-of-type {\n",
              "        vertical-align: middle;\n",
              "    }\n",
              "\n",
              "    .dataframe tbody tr th {\n",
              "        vertical-align: top;\n",
              "    }\n",
              "\n",
              "    .dataframe thead th {\n",
              "        text-align: right;\n",
              "    }\n",
              "</style>\n",
              "<table border=\"1\" class=\"dataframe\">\n",
              "  <thead>\n",
              "    <tr style=\"text-align: right;\">\n",
              "      <th></th>\n",
              "      <th>permalink</th>\n",
              "      <th>name</th>\n",
              "      <th>status</th>\n",
              "      <th>country_code</th>\n",
              "      <th>funding_round_permalink</th>\n",
              "      <th>funding_round_type</th>\n",
              "      <th>funded_at</th>\n",
              "      <th>raised_amount_usd</th>\n",
              "      <th>main_category</th>\n",
              "      <th>category_list</th>\n",
              "      <th>Automotive &amp; Sports</th>\n",
              "      <th>Blanks</th>\n",
              "      <th>Cleantech / Semiconductors</th>\n",
              "      <th>Entertainment</th>\n",
              "      <th>Health</th>\n",
              "      <th>Manufacturing</th>\n",
              "      <th>News, Search and Messaging</th>\n",
              "      <th>Others</th>\n",
              "      <th>Social, Finance, Analytics, Advertising</th>\n",
              "    </tr>\n",
              "  </thead>\n",
              "  <tbody>\n",
              "    <tr>\n",
              "      <th>0</th>\n",
              "      <td>/ORGANIZATION/-FAME</td>\n",
              "      <td>#fame</td>\n",
              "      <td>operating</td>\n",
              "      <td>IND</td>\n",
              "      <td>/funding-round/9a01d05418af9f794eebff7ace91f638</td>\n",
              "      <td>venture</td>\n",
              "      <td>05-01-2015</td>\n",
              "      <td>10000000.0</td>\n",
              "      <td>MEDIA</td>\n",
              "      <td>MEDIA</td>\n",
              "      <td>0</td>\n",
              "      <td>0</td>\n",
              "      <td>0</td>\n",
              "      <td>1</td>\n",
              "      <td>0</td>\n",
              "      <td>0</td>\n",
              "      <td>0</td>\n",
              "      <td>0</td>\n",
              "      <td>0</td>\n",
              "    </tr>\n",
              "    <tr>\n",
              "      <th>1</th>\n",
              "      <td>/ORGANIZATION/90MIN</td>\n",
              "      <td>90min</td>\n",
              "      <td>operating</td>\n",
              "      <td>GBR</td>\n",
              "      <td>/funding-round/21a2cbf6f2fb2a1c2a61e04bf930dfe6</td>\n",
              "      <td>venture</td>\n",
              "      <td>06-10-2015</td>\n",
              "      <td>15000000.0</td>\n",
              "      <td>MEDIA</td>\n",
              "      <td>MEDIA</td>\n",
              "      <td>0</td>\n",
              "      <td>0</td>\n",
              "      <td>0</td>\n",
              "      <td>1</td>\n",
              "      <td>0</td>\n",
              "      <td>0</td>\n",
              "      <td>0</td>\n",
              "      <td>0</td>\n",
              "      <td>0</td>\n",
              "    </tr>\n",
              "  </tbody>\n",
              "</table>\n",
              "</div>"
            ],
            "text/plain": [
              "             permalink   name     status country_code  \\\n",
              "0  /ORGANIZATION/-FAME  #fame  operating          IND   \n",
              "1  /ORGANIZATION/90MIN  90min  operating          GBR   \n",
              "\n",
              "                           funding_round_permalink funding_round_type  \\\n",
              "0  /funding-round/9a01d05418af9f794eebff7ace91f638            venture   \n",
              "1  /funding-round/21a2cbf6f2fb2a1c2a61e04bf930dfe6            venture   \n",
              "\n",
              "    funded_at  raised_amount_usd main_category category_list  \\\n",
              "0  05-01-2015         10000000.0         MEDIA         MEDIA   \n",
              "1  06-10-2015         15000000.0         MEDIA         MEDIA   \n",
              "\n",
              "   Automotive & Sports  Blanks  Cleantech / Semiconductors  Entertainment  \\\n",
              "0                    0       0                           0              1   \n",
              "1                    0       0                           0              1   \n",
              "\n",
              "   Health  Manufacturing  News, Search and Messaging  Others  \\\n",
              "0       0              0                           0       0   \n",
              "1       0              0                           0       0   \n",
              "\n",
              "   Social, Finance, Analytics, Advertising  \n",
              "0                                        0  \n",
              "1                                        0  "
            ]
          },
          "execution_count": 56,
          "metadata": {},
          "output_type": "execute_result"
        }
      ],
      "source": [
        "# merge the dfs\n",
        "df2 = pd.merge(df1, map, how='inner', left_on='main_category', right_on='category_list')\n",
        "df2.head(2)"
      ]
    },
    {
      "cell_type": "code",
      "execution_count": null,
      "metadata": {
        "id": "2xQsxpDBgDXU",
        "outputId": "34ab8402-2a73-45a6-9010-cc9ca127fff5"
      },
      "outputs": [
        {
          "name": "stdout",
          "output_type": "stream",
          "text": [
            "<class 'pandas.core.frame.DataFrame'>\n",
            "Int64Index: 38840 entries, 0 to 38839\n",
            "Data columns (total 19 columns):\n",
            " #   Column                                   Non-Null Count  Dtype  \n",
            "---  ------                                   --------------  -----  \n",
            " 0   permalink                                38840 non-null  object \n",
            " 1   name                                     38840 non-null  object \n",
            " 2   status                                   38840 non-null  object \n",
            " 3   country_code                             38840 non-null  object \n",
            " 4   funding_round_permalink                  38840 non-null  object \n",
            " 5   funding_round_type                       38840 non-null  object \n",
            " 6   funded_at                                38840 non-null  object \n",
            " 7   raised_amount_usd                        38840 non-null  float64\n",
            " 8   main_category                            38840 non-null  object \n",
            " 9   category_list                            38840 non-null  object \n",
            " 10  Automotive & Sports                      38840 non-null  int64  \n",
            " 11  Blanks                                   38840 non-null  int64  \n",
            " 12  Cleantech / Semiconductors               38840 non-null  int64  \n",
            " 13  Entertainment                            38840 non-null  int64  \n",
            " 14  Health                                   38840 non-null  int64  \n",
            " 15  Manufacturing                            38840 non-null  int64  \n",
            " 16  News, Search and Messaging               38840 non-null  int64  \n",
            " 17  Others                                   38840 non-null  int64  \n",
            " 18  Social, Finance, Analytics, Advertising  38840 non-null  int64  \n",
            "dtypes: float64(1), int64(9), object(9)\n",
            "memory usage: 5.9+ MB\n"
          ]
        }
      ],
      "source": [
        "df2.info()"
      ]
    },
    {
      "cell_type": "markdown",
      "metadata": {
        "id": "UcZbA4zwgDXU"
      },
      "source": [
        "let's drop the category_list column since it is the same as main_category."
      ]
    },
    {
      "cell_type": "code",
      "execution_count": null,
      "metadata": {
        "id": "6M08NZ--gDXU",
        "outputId": "0381017d-3f6b-4b92-c492-59924bb7419b"
      },
      "outputs": [
        {
          "data": {
            "text/html": [
              "<div>\n",
              "<style scoped>\n",
              "    .dataframe tbody tr th:only-of-type {\n",
              "        vertical-align: middle;\n",
              "    }\n",
              "\n",
              "    .dataframe tbody tr th {\n",
              "        vertical-align: top;\n",
              "    }\n",
              "\n",
              "    .dataframe thead th {\n",
              "        text-align: right;\n",
              "    }\n",
              "</style>\n",
              "<table border=\"1\" class=\"dataframe\">\n",
              "  <thead>\n",
              "    <tr style=\"text-align: right;\">\n",
              "      <th></th>\n",
              "      <th>permalink</th>\n",
              "      <th>name</th>\n",
              "      <th>status</th>\n",
              "      <th>country_code</th>\n",
              "      <th>funding_round_permalink</th>\n",
              "      <th>funding_round_type</th>\n",
              "      <th>funded_at</th>\n",
              "      <th>raised_amount_usd</th>\n",
              "      <th>main_category</th>\n",
              "      <th>Automotive &amp; Sports</th>\n",
              "      <th>Blanks</th>\n",
              "      <th>Cleantech / Semiconductors</th>\n",
              "      <th>Entertainment</th>\n",
              "      <th>Health</th>\n",
              "      <th>Manufacturing</th>\n",
              "      <th>News, Search and Messaging</th>\n",
              "      <th>Others</th>\n",
              "      <th>Social, Finance, Analytics, Advertising</th>\n",
              "    </tr>\n",
              "  </thead>\n",
              "  <tbody>\n",
              "    <tr>\n",
              "      <th>0</th>\n",
              "      <td>/ORGANIZATION/-FAME</td>\n",
              "      <td>#fame</td>\n",
              "      <td>operating</td>\n",
              "      <td>IND</td>\n",
              "      <td>/funding-round/9a01d05418af9f794eebff7ace91f638</td>\n",
              "      <td>venture</td>\n",
              "      <td>05-01-2015</td>\n",
              "      <td>10000000.0</td>\n",
              "      <td>MEDIA</td>\n",
              "      <td>0</td>\n",
              "      <td>0</td>\n",
              "      <td>0</td>\n",
              "      <td>1</td>\n",
              "      <td>0</td>\n",
              "      <td>0</td>\n",
              "      <td>0</td>\n",
              "      <td>0</td>\n",
              "      <td>0</td>\n",
              "    </tr>\n",
              "    <tr>\n",
              "      <th>1</th>\n",
              "      <td>/ORGANIZATION/90MIN</td>\n",
              "      <td>90min</td>\n",
              "      <td>operating</td>\n",
              "      <td>GBR</td>\n",
              "      <td>/funding-round/21a2cbf6f2fb2a1c2a61e04bf930dfe6</td>\n",
              "      <td>venture</td>\n",
              "      <td>06-10-2015</td>\n",
              "      <td>15000000.0</td>\n",
              "      <td>MEDIA</td>\n",
              "      <td>0</td>\n",
              "      <td>0</td>\n",
              "      <td>0</td>\n",
              "      <td>1</td>\n",
              "      <td>0</td>\n",
              "      <td>0</td>\n",
              "      <td>0</td>\n",
              "      <td>0</td>\n",
              "      <td>0</td>\n",
              "    </tr>\n",
              "  </tbody>\n",
              "</table>\n",
              "</div>"
            ],
            "text/plain": [
              "             permalink   name     status country_code  \\\n",
              "0  /ORGANIZATION/-FAME  #fame  operating          IND   \n",
              "1  /ORGANIZATION/90MIN  90min  operating          GBR   \n",
              "\n",
              "                           funding_round_permalink funding_round_type  \\\n",
              "0  /funding-round/9a01d05418af9f794eebff7ace91f638            venture   \n",
              "1  /funding-round/21a2cbf6f2fb2a1c2a61e04bf930dfe6            venture   \n",
              "\n",
              "    funded_at  raised_amount_usd main_category  Automotive & Sports  Blanks  \\\n",
              "0  05-01-2015         10000000.0         MEDIA                    0       0   \n",
              "1  06-10-2015         15000000.0         MEDIA                    0       0   \n",
              "\n",
              "   Cleantech / Semiconductors  Entertainment  Health  Manufacturing  \\\n",
              "0                           0              1       0              0   \n",
              "1                           0              1       0              0   \n",
              "\n",
              "   News, Search and Messaging  Others  Social, Finance, Analytics, Advertising  \n",
              "0                           0       0                                        0  \n",
              "1                           0       0                                        0  "
            ]
          },
          "execution_count": 58,
          "metadata": {},
          "output_type": "execute_result"
        }
      ],
      "source": [
        "df2 = df2.drop('category_list', axis=1)\n",
        "df2.head(2)"
      ]
    },
    {
      "cell_type": "markdown",
      "metadata": {
        "id": "AFJKcN-KgDXU"
      },
      "source": [
        "Note that the columns representing the main category is in 'wide' format. They contain the value '1' if the company belongs to that category, else 0.\n",
        "\n",
        "It's better to convert the df2 into the long format.\n",
        "\n",
        "we'll store those columns that are to be melted in an array \"melt_col\".\n",
        "\n",
        "we'll use numpy.setdiff1d(ar1, ar2, assume_unique=False)\n",
        "to find the set difference of two arrays.\n"
      ]
    },
    {
      "cell_type": "code",
      "execution_count": null,
      "metadata": {
        "id": "h-e-Qn13gDXU",
        "outputId": "27242ce2-1912-449a-a24f-88f22439a0bc"
      },
      "outputs": [
        {
          "name": "stdout",
          "output_type": "stream",
          "text": [
            "Index(['Automotive & Sports', 'Blanks', 'Cleantech / Semiconductors',\n",
            "       'Entertainment', 'Health', 'Manufacturing',\n",
            "       'News, Search and Messaging', 'Others',\n",
            "       'Social, Finance, Analytics, Advertising'],\n",
            "      dtype='object') \n",
            "\n"
          ]
        },
        {
          "data": {
            "text/plain": [
              "array(['country_code', 'funded_at', 'funding_round_permalink',\n",
              "       'funding_round_type', 'main_category', 'name', 'permalink',\n",
              "       'raised_amount_usd', 'status'], dtype=object)"
            ]
          },
          "execution_count": 59,
          "metadata": {},
          "output_type": "execute_result"
        }
      ],
      "source": [
        "melt_col = df2.columns[9:18]\n",
        "\n",
        "index = np.setdiff1d(df2.columns, melt_col)\n",
        "\n",
        "print(melt_col, \"\\n\")\n",
        "index"
      ]
    },
    {
      "cell_type": "markdown",
      "metadata": {
        "id": "tvH9nITcgDXV"
      },
      "source": [
        "Let's convert df2 into long format"
      ]
    },
    {
      "cell_type": "markdown",
      "metadata": {
        "id": "ul91wwbkgDXV"
      },
      "source": [
        "pandas.melt(frame, id_vars=None, value_vars=None, var_name=None, value_name='value', col_level=None, ignore_index=True)\n",
        "\n",
        "Unpivot a DataFrame from wide to long format.\n",
        "\n",
        "id_vars:\n",
        "\n",
        "tuple, list, or ndarray, optional\n",
        "Column(s) to use as identifier variables.\n",
        "\n",
        "value_vars:\n",
        "\n",
        "tuple, list, or ndarray, optional\n",
        "Column(s) to unpivot. If not specified, uses all columns that are not set as id_vars."
      ]
    },
    {
      "cell_type": "code",
      "execution_count": null,
      "metadata": {
        "id": "h8ER34dDgDXV",
        "outputId": "72174b99-5689-4542-846d-837c54ae47fb"
      },
      "outputs": [
        {
          "data": {
            "text/html": [
              "<div>\n",
              "<style scoped>\n",
              "    .dataframe tbody tr th:only-of-type {\n",
              "        vertical-align: middle;\n",
              "    }\n",
              "\n",
              "    .dataframe tbody tr th {\n",
              "        vertical-align: top;\n",
              "    }\n",
              "\n",
              "    .dataframe thead th {\n",
              "        text-align: right;\n",
              "    }\n",
              "</style>\n",
              "<table border=\"1\" class=\"dataframe\">\n",
              "  <thead>\n",
              "    <tr style=\"text-align: right;\">\n",
              "      <th></th>\n",
              "      <th>country_code</th>\n",
              "      <th>funded_at</th>\n",
              "      <th>funding_round_permalink</th>\n",
              "      <th>funding_round_type</th>\n",
              "      <th>main_category</th>\n",
              "      <th>name</th>\n",
              "      <th>permalink</th>\n",
              "      <th>raised_amount_usd</th>\n",
              "      <th>status</th>\n",
              "      <th>variable</th>\n",
              "      <th>value</th>\n",
              "    </tr>\n",
              "  </thead>\n",
              "  <tbody>\n",
              "    <tr>\n",
              "      <th>0</th>\n",
              "      <td>IND</td>\n",
              "      <td>05-01-2015</td>\n",
              "      <td>/funding-round/9a01d05418af9f794eebff7ace91f638</td>\n",
              "      <td>venture</td>\n",
              "      <td>MEDIA</td>\n",
              "      <td>#fame</td>\n",
              "      <td>/ORGANIZATION/-FAME</td>\n",
              "      <td>10000000.0</td>\n",
              "      <td>operating</td>\n",
              "      <td>Automotive &amp; Sports</td>\n",
              "      <td>0</td>\n",
              "    </tr>\n",
              "    <tr>\n",
              "      <th>1</th>\n",
              "      <td>GBR</td>\n",
              "      <td>06-10-2015</td>\n",
              "      <td>/funding-round/21a2cbf6f2fb2a1c2a61e04bf930dfe6</td>\n",
              "      <td>venture</td>\n",
              "      <td>MEDIA</td>\n",
              "      <td>90min</td>\n",
              "      <td>/ORGANIZATION/90MIN</td>\n",
              "      <td>15000000.0</td>\n",
              "      <td>operating</td>\n",
              "      <td>Automotive &amp; Sports</td>\n",
              "      <td>0</td>\n",
              "    </tr>\n",
              "  </tbody>\n",
              "</table>\n",
              "</div>"
            ],
            "text/plain": [
              "  country_code   funded_at                          funding_round_permalink  \\\n",
              "0          IND  05-01-2015  /funding-round/9a01d05418af9f794eebff7ace91f638   \n",
              "1          GBR  06-10-2015  /funding-round/21a2cbf6f2fb2a1c2a61e04bf930dfe6   \n",
              "\n",
              "  funding_round_type main_category   name            permalink  \\\n",
              "0            venture         MEDIA  #fame  /ORGANIZATION/-FAME   \n",
              "1            venture         MEDIA  90min  /ORGANIZATION/90MIN   \n",
              "\n",
              "   raised_amount_usd     status             variable  value  \n",
              "0         10000000.0  operating  Automotive & Sports      0  \n",
              "1         15000000.0  operating  Automotive & Sports      0  "
            ]
          },
          "execution_count": 60,
          "metadata": {},
          "output_type": "execute_result"
        }
      ],
      "source": [
        "df3 = pd.melt(df2,\n",
        "              id_vars= list(index),\n",
        "              value_vars= list(melt_col))\n",
        "\n",
        "df3.head(2)"
      ]
    },
    {
      "cell_type": "code",
      "execution_count": null,
      "metadata": {
        "id": "jGpcHEYpgDXV",
        "outputId": "dc1e5ba6-e411-49a2-84c3-c76713523c29"
      },
      "outputs": [
        {
          "data": {
            "text/html": [
              "<div>\n",
              "<style scoped>\n",
              "    .dataframe tbody tr th:only-of-type {\n",
              "        vertical-align: middle;\n",
              "    }\n",
              "\n",
              "    .dataframe tbody tr th {\n",
              "        vertical-align: top;\n",
              "    }\n",
              "\n",
              "    .dataframe thead th {\n",
              "        text-align: right;\n",
              "    }\n",
              "</style>\n",
              "<table border=\"1\" class=\"dataframe\">\n",
              "  <thead>\n",
              "    <tr style=\"text-align: right;\">\n",
              "      <th></th>\n",
              "      <th>country_code</th>\n",
              "      <th>funded_at</th>\n",
              "      <th>funding_round_permalink</th>\n",
              "      <th>funding_round_type</th>\n",
              "      <th>main_category</th>\n",
              "      <th>name</th>\n",
              "      <th>permalink</th>\n",
              "      <th>raised_amount_usd</th>\n",
              "      <th>status</th>\n",
              "      <th>variable</th>\n",
              "      <th>value</th>\n",
              "    </tr>\n",
              "  </thead>\n",
              "  <tbody>\n",
              "    <tr>\n",
              "      <th>26108</th>\n",
              "      <td>USA</td>\n",
              "      <td>05-11-2012</td>\n",
              "      <td>/funding-round/2785595770e91ab8fd4854ef125ec563</td>\n",
              "      <td>venture</td>\n",
              "      <td>DRONES</td>\n",
              "      <td>3D Robotics</td>\n",
              "      <td>/ORGANIZATION/3D-ROBOTICS</td>\n",
              "      <td>5000000.0</td>\n",
              "      <td>operating</td>\n",
              "      <td>Automotive &amp; Sports</td>\n",
              "      <td>1</td>\n",
              "    </tr>\n",
              "    <tr>\n",
              "      <th>26109</th>\n",
              "      <td>USA</td>\n",
              "      <td>23-04-2015</td>\n",
              "      <td>/funding-round/7ca0d4dc119b6d65eebfb352c3544542</td>\n",
              "      <td>venture</td>\n",
              "      <td>DRONES</td>\n",
              "      <td>3D Robotics</td>\n",
              "      <td>/ORGANIZATION/3D-ROBOTICS</td>\n",
              "      <td>14000000.0</td>\n",
              "      <td>operating</td>\n",
              "      <td>Automotive &amp; Sports</td>\n",
              "      <td>1</td>\n",
              "    </tr>\n",
              "  </tbody>\n",
              "</table>\n",
              "</div>"
            ],
            "text/plain": [
              "      country_code   funded_at  \\\n",
              "26108          USA  05-11-2012   \n",
              "26109          USA  23-04-2015   \n",
              "\n",
              "                               funding_round_permalink funding_round_type  \\\n",
              "26108  /funding-round/2785595770e91ab8fd4854ef125ec563            venture   \n",
              "26109  /funding-round/7ca0d4dc119b6d65eebfb352c3544542            venture   \n",
              "\n",
              "      main_category         name                  permalink  \\\n",
              "26108        DRONES  3D Robotics  /ORGANIZATION/3D-ROBOTICS   \n",
              "26109        DRONES  3D Robotics  /ORGANIZATION/3D-ROBOTICS   \n",
              "\n",
              "       raised_amount_usd     status             variable  value  \n",
              "26108          5000000.0  operating  Automotive & Sports      1  \n",
              "26109         14000000.0  operating  Automotive & Sports      1  "
            ]
          },
          "execution_count": 61,
          "metadata": {},
          "output_type": "execute_result"
        }
      ],
      "source": [
        "# remove rows having value=0\n",
        "df3 = df3[df3['value']==1]\n",
        "df3.head(2)"
      ]
    },
    {
      "cell_type": "markdown",
      "metadata": {
        "id": "rSYx5wtRgDXV"
      },
      "source": [
        "Let's drop column \"value\" and rename \"variable\" to \"sector\"."
      ]
    },
    {
      "cell_type": "code",
      "execution_count": null,
      "metadata": {
        "id": "pPA4S01vgDXV",
        "outputId": "65e76052-f8d7-4d41-8980-730a5486b65b"
      },
      "outputs": [
        {
          "name": "stdout",
          "output_type": "stream",
          "text": [
            "(38840, 10)\n"
          ]
        },
        {
          "data": {
            "text/html": [
              "<div>\n",
              "<style scoped>\n",
              "    .dataframe tbody tr th:only-of-type {\n",
              "        vertical-align: middle;\n",
              "    }\n",
              "\n",
              "    .dataframe tbody tr th {\n",
              "        vertical-align: top;\n",
              "    }\n",
              "\n",
              "    .dataframe thead th {\n",
              "        text-align: right;\n",
              "    }\n",
              "</style>\n",
              "<table border=\"1\" class=\"dataframe\">\n",
              "  <thead>\n",
              "    <tr style=\"text-align: right;\">\n",
              "      <th></th>\n",
              "      <th>country_code</th>\n",
              "      <th>funded_at</th>\n",
              "      <th>funding_round_permalink</th>\n",
              "      <th>funding_round_type</th>\n",
              "      <th>main_category</th>\n",
              "      <th>name</th>\n",
              "      <th>permalink</th>\n",
              "      <th>raised_amount_usd</th>\n",
              "      <th>status</th>\n",
              "      <th>sector</th>\n",
              "    </tr>\n",
              "  </thead>\n",
              "  <tbody>\n",
              "    <tr>\n",
              "      <th>26108</th>\n",
              "      <td>USA</td>\n",
              "      <td>05-11-2012</td>\n",
              "      <td>/funding-round/2785595770e91ab8fd4854ef125ec563</td>\n",
              "      <td>venture</td>\n",
              "      <td>DRONES</td>\n",
              "      <td>3D Robotics</td>\n",
              "      <td>/ORGANIZATION/3D-ROBOTICS</td>\n",
              "      <td>5000000.0</td>\n",
              "      <td>operating</td>\n",
              "      <td>Automotive &amp; Sports</td>\n",
              "    </tr>\n",
              "    <tr>\n",
              "      <th>26109</th>\n",
              "      <td>USA</td>\n",
              "      <td>23-04-2015</td>\n",
              "      <td>/funding-round/7ca0d4dc119b6d65eebfb352c3544542</td>\n",
              "      <td>venture</td>\n",
              "      <td>DRONES</td>\n",
              "      <td>3D Robotics</td>\n",
              "      <td>/ORGANIZATION/3D-ROBOTICS</td>\n",
              "      <td>14000000.0</td>\n",
              "      <td>operating</td>\n",
              "      <td>Automotive &amp; Sports</td>\n",
              "    </tr>\n",
              "  </tbody>\n",
              "</table>\n",
              "</div>"
            ],
            "text/plain": [
              "      country_code   funded_at  \\\n",
              "26108          USA  05-11-2012   \n",
              "26109          USA  23-04-2015   \n",
              "\n",
              "                               funding_round_permalink funding_round_type  \\\n",
              "26108  /funding-round/2785595770e91ab8fd4854ef125ec563            venture   \n",
              "26109  /funding-round/7ca0d4dc119b6d65eebfb352c3544542            venture   \n",
              "\n",
              "      main_category         name                  permalink  \\\n",
              "26108        DRONES  3D Robotics  /ORGANIZATION/3D-ROBOTICS   \n",
              "26109        DRONES  3D Robotics  /ORGANIZATION/3D-ROBOTICS   \n",
              "\n",
              "       raised_amount_usd     status               sector  \n",
              "26108          5000000.0  operating  Automotive & Sports  \n",
              "26109         14000000.0  operating  Automotive & Sports  "
            ]
          },
          "execution_count": 62,
          "metadata": {},
          "output_type": "execute_result"
        }
      ],
      "source": [
        "df3 = df3.drop('value', axis=1)\n",
        "df3 = df3.rename(columns={'variable': 'sector'})\n",
        "print(df3.shape)\n",
        "df3.head(2)"
      ]
    },
    {
      "cell_type": "code",
      "execution_count": null,
      "metadata": {
        "id": "Euk7HOeogDXW",
        "outputId": "ec66a615-1c85-45a8-f461-b69d2eb064c3"
      },
      "outputs": [
        {
          "data": {
            "text/plain": [
              "array(['USA', 'CAN', 'IND', 'GBR', 'CHN'], dtype=object)"
            ]
          },
          "execution_count": 63,
          "metadata": {},
          "output_type": "execute_result"
        }
      ],
      "source": [
        "df3.country_code.unique()"
      ]
    },
    {
      "cell_type": "markdown",
      "metadata": {
        "id": "03MPvIeYgDXW"
      },
      "source": [
        "Note that, now df3  contains only venture type investments in countries 'USA', 'CAN', 'IND', 'GBR', 'CHN', and we have mapped each company to one of the eight main sectors.\n",
        "\n",
        "Now, we're going to computethe amount of investment in the these countries.\n",
        "\n",
        "Let's first filter for investment range between 1 and 6 million and then groupby country, sector and compute the count and sum."
      ]
    },
    {
      "cell_type": "code",
      "execution_count": null,
      "metadata": {
        "id": "v8_pOxlqgDXW",
        "outputId": "be7b6754-bce9-48f1-a064-d83ab8ae8a83"
      },
      "outputs": [
        {
          "name": "stdout",
          "output_type": "stream",
          "text": [
            "(38840, 10)\n"
          ]
        },
        {
          "data": {
            "text/plain": [
              "(15295, 10)"
            ]
          },
          "execution_count": 66,
          "metadata": {},
          "output_type": "execute_result"
        }
      ],
      "source": [
        "df4 = df3[(df3['raised_amount_usd'] >= 1000000) & (df3['raised_amount_usd'] <= 6000000)]\n",
        "print(df3.shape)\n",
        "df4.shape"
      ]
    },
    {
      "cell_type": "code",
      "execution_count": null,
      "metadata": {
        "id": "PjL96AwWgDXW",
        "outputId": "8ae839e0-ab23-4b42-a06f-836283a62e7f"
      },
      "outputs": [
        {
          "data": {
            "text/html": [
              "<div>\n",
              "<style scoped>\n",
              "    .dataframe tbody tr th:only-of-type {\n",
              "        vertical-align: middle;\n",
              "    }\n",
              "\n",
              "    .dataframe tbody tr th {\n",
              "        vertical-align: top;\n",
              "    }\n",
              "\n",
              "    .dataframe thead th {\n",
              "        text-align: right;\n",
              "    }\n",
              "</style>\n",
              "<table border=\"1\" class=\"dataframe\">\n",
              "  <thead>\n",
              "    <tr style=\"text-align: right;\">\n",
              "      <th></th>\n",
              "      <th></th>\n",
              "      <th>count</th>\n",
              "      <th>sum</th>\n",
              "    </tr>\n",
              "    <tr>\n",
              "      <th>country_code</th>\n",
              "      <th>sector</th>\n",
              "      <th></th>\n",
              "      <th></th>\n",
              "    </tr>\n",
              "  </thead>\n",
              "  <tbody>\n",
              "    <tr>\n",
              "      <th rowspan=\"8\" valign=\"top\">CAN</th>\n",
              "      <th>Automotive &amp; Sports</th>\n",
              "      <td>8</td>\n",
              "      <td>2.350869e+07</td>\n",
              "    </tr>\n",
              "    <tr>\n",
              "      <th>Cleantech / Semiconductors</th>\n",
              "      <td>119</td>\n",
              "      <td>3.722636e+08</td>\n",
              "    </tr>\n",
              "    <tr>\n",
              "      <th>Entertainment</th>\n",
              "      <td>27</td>\n",
              "      <td>9.836804e+07</td>\n",
              "    </tr>\n",
              "    <tr>\n",
              "      <th>Health</th>\n",
              "      <td>21</td>\n",
              "      <td>6.241303e+07</td>\n",
              "    </tr>\n",
              "    <tr>\n",
              "      <th>Manufacturing</th>\n",
              "      <td>38</td>\n",
              "      <td>1.188499e+08</td>\n",
              "    </tr>\n",
              "    <tr>\n",
              "      <th>News, Search and Messaging</th>\n",
              "      <td>56</td>\n",
              "      <td>1.711021e+08</td>\n",
              "    </tr>\n",
              "    <tr>\n",
              "      <th>Others</th>\n",
              "      <td>134</td>\n",
              "      <td>4.202697e+08</td>\n",
              "    </tr>\n",
              "    <tr>\n",
              "      <th>Social, Finance, Analytics, Advertising</th>\n",
              "      <td>89</td>\n",
              "      <td>2.808498e+08</td>\n",
              "    </tr>\n",
              "    <tr>\n",
              "      <th rowspan=\"8\" valign=\"top\">CHN</th>\n",
              "      <th>Automotive &amp; Sports</th>\n",
              "      <td>5</td>\n",
              "      <td>2.250225e+07</td>\n",
              "    </tr>\n",
              "    <tr>\n",
              "      <th>Cleantech / Semiconductors</th>\n",
              "      <td>42</td>\n",
              "      <td>1.439068e+08</td>\n",
              "    </tr>\n",
              "    <tr>\n",
              "      <th>Entertainment</th>\n",
              "      <td>72</td>\n",
              "      <td>1.993763e+08</td>\n",
              "    </tr>\n",
              "    <tr>\n",
              "      <th>Health</th>\n",
              "      <td>26</td>\n",
              "      <td>7.487644e+07</td>\n",
              "    </tr>\n",
              "    <tr>\n",
              "      <th>Manufacturing</th>\n",
              "      <td>49</td>\n",
              "      <td>1.581265e+08</td>\n",
              "    </tr>\n",
              "    <tr>\n",
              "      <th>News, Search and Messaging</th>\n",
              "      <td>85</td>\n",
              "      <td>2.439610e+08</td>\n",
              "    </tr>\n",
              "    <tr>\n",
              "      <th>Others</th>\n",
              "      <td>178</td>\n",
              "      <td>5.351899e+08</td>\n",
              "    </tr>\n",
              "    <tr>\n",
              "      <th>Social, Finance, Analytics, Advertising</th>\n",
              "      <td>58</td>\n",
              "      <td>1.583606e+08</td>\n",
              "    </tr>\n",
              "    <tr>\n",
              "      <th rowspan=\"8\" valign=\"top\">GBR</th>\n",
              "      <th>Automotive &amp; Sports</th>\n",
              "      <td>16</td>\n",
              "      <td>5.079838e+07</td>\n",
              "    </tr>\n",
              "    <tr>\n",
              "      <th>Cleantech / Semiconductors</th>\n",
              "      <td>187</td>\n",
              "      <td>5.628323e+08</td>\n",
              "    </tr>\n",
              "    <tr>\n",
              "      <th>Entertainment</th>\n",
              "      <td>66</td>\n",
              "      <td>2.090938e+08</td>\n",
              "    </tr>\n",
              "    <tr>\n",
              "      <th>Health</th>\n",
              "      <td>47</td>\n",
              "      <td>1.350567e+08</td>\n",
              "    </tr>\n",
              "    <tr>\n",
              "      <th>Manufacturing</th>\n",
              "      <td>54</td>\n",
              "      <td>1.684377e+08</td>\n",
              "    </tr>\n",
              "    <tr>\n",
              "      <th>News, Search and Messaging</th>\n",
              "      <td>101</td>\n",
              "      <td>3.149769e+08</td>\n",
              "    </tr>\n",
              "    <tr>\n",
              "      <th>Others</th>\n",
              "      <td>230</td>\n",
              "      <td>6.529432e+08</td>\n",
              "    </tr>\n",
              "    <tr>\n",
              "      <th>Social, Finance, Analytics, Advertising</th>\n",
              "      <td>160</td>\n",
              "      <td>4.855258e+08</td>\n",
              "    </tr>\n",
              "    <tr>\n",
              "      <th rowspan=\"8\" valign=\"top\">IND</th>\n",
              "      <th>Automotive &amp; Sports</th>\n",
              "      <td>6</td>\n",
              "      <td>1.750000e+07</td>\n",
              "    </tr>\n",
              "    <tr>\n",
              "      <th>Cleantech / Semiconductors</th>\n",
              "      <td>23</td>\n",
              "      <td>7.333763e+07</td>\n",
              "    </tr>\n",
              "    <tr>\n",
              "      <th>Entertainment</th>\n",
              "      <td>31</td>\n",
              "      <td>1.161950e+08</td>\n",
              "    </tr>\n",
              "    <tr>\n",
              "      <th>Health</th>\n",
              "      <td>17</td>\n",
              "      <td>5.463000e+07</td>\n",
              "    </tr>\n",
              "    <tr>\n",
              "      <th>Manufacturing</th>\n",
              "      <td>20</td>\n",
              "      <td>6.334500e+07</td>\n",
              "    </tr>\n",
              "    <tr>\n",
              "      <th>News, Search and Messaging</th>\n",
              "      <td>54</td>\n",
              "      <td>1.923355e+08</td>\n",
              "    </tr>\n",
              "    <tr>\n",
              "      <th>Others</th>\n",
              "      <td>108</td>\n",
              "      <td>3.569877e+08</td>\n",
              "    </tr>\n",
              "    <tr>\n",
              "      <th>Social, Finance, Analytics, Advertising</th>\n",
              "      <td>34</td>\n",
              "      <td>1.193000e+08</td>\n",
              "    </tr>\n",
              "    <tr>\n",
              "      <th rowspan=\"8\" valign=\"top\">USA</th>\n",
              "      <th>Automotive &amp; Sports</th>\n",
              "      <td>179</td>\n",
              "      <td>6.278026e+08</td>\n",
              "    </tr>\n",
              "    <tr>\n",
              "      <th>Cleantech / Semiconductors</th>\n",
              "      <td>2660</td>\n",
              "      <td>8.117875e+09</td>\n",
              "    </tr>\n",
              "    <tr>\n",
              "      <th>Entertainment</th>\n",
              "      <td>801</td>\n",
              "      <td>2.475796e+09</td>\n",
              "    </tr>\n",
              "    <tr>\n",
              "      <th>Health</th>\n",
              "      <td>1218</td>\n",
              "      <td>3.635136e+09</td>\n",
              "    </tr>\n",
              "    <tr>\n",
              "      <th>Manufacturing</th>\n",
              "      <td>875</td>\n",
              "      <td>2.695218e+09</td>\n",
              "    </tr>\n",
              "    <tr>\n",
              "      <th>News, Search and Messaging</th>\n",
              "      <td>1827</td>\n",
              "      <td>5.838996e+09</td>\n",
              "    </tr>\n",
              "    <tr>\n",
              "      <th>Others</th>\n",
              "      <td>3303</td>\n",
              "      <td>1.050651e+10</td>\n",
              "    </tr>\n",
              "    <tr>\n",
              "      <th>Social, Finance, Analytics, Advertising</th>\n",
              "      <td>2271</td>\n",
              "      <td>7.400493e+09</td>\n",
              "    </tr>\n",
              "  </tbody>\n",
              "</table>\n",
              "</div>"
            ],
            "text/plain": [
              "                                                      count           sum\n",
              "country_code sector                                                      \n",
              "CAN          Automotive & Sports                          8  2.350869e+07\n",
              "             Cleantech / Semiconductors                 119  3.722636e+08\n",
              "             Entertainment                               27  9.836804e+07\n",
              "             Health                                      21  6.241303e+07\n",
              "             Manufacturing                               38  1.188499e+08\n",
              "             News, Search and Messaging                  56  1.711021e+08\n",
              "             Others                                     134  4.202697e+08\n",
              "             Social, Finance, Analytics, Advertising     89  2.808498e+08\n",
              "CHN          Automotive & Sports                          5  2.250225e+07\n",
              "             Cleantech / Semiconductors                  42  1.439068e+08\n",
              "             Entertainment                               72  1.993763e+08\n",
              "             Health                                      26  7.487644e+07\n",
              "             Manufacturing                               49  1.581265e+08\n",
              "             News, Search and Messaging                  85  2.439610e+08\n",
              "             Others                                     178  5.351899e+08\n",
              "             Social, Finance, Analytics, Advertising     58  1.583606e+08\n",
              "GBR          Automotive & Sports                         16  5.079838e+07\n",
              "             Cleantech / Semiconductors                 187  5.628323e+08\n",
              "             Entertainment                               66  2.090938e+08\n",
              "             Health                                      47  1.350567e+08\n",
              "             Manufacturing                               54  1.684377e+08\n",
              "             News, Search and Messaging                 101  3.149769e+08\n",
              "             Others                                     230  6.529432e+08\n",
              "             Social, Finance, Analytics, Advertising    160  4.855258e+08\n",
              "IND          Automotive & Sports                          6  1.750000e+07\n",
              "             Cleantech / Semiconductors                  23  7.333763e+07\n",
              "             Entertainment                               31  1.161950e+08\n",
              "             Health                                      17  5.463000e+07\n",
              "             Manufacturing                               20  6.334500e+07\n",
              "             News, Search and Messaging                  54  1.923355e+08\n",
              "             Others                                     108  3.569877e+08\n",
              "             Social, Finance, Analytics, Advertising     34  1.193000e+08\n",
              "USA          Automotive & Sports                        179  6.278026e+08\n",
              "             Cleantech / Semiconductors                2660  8.117875e+09\n",
              "             Entertainment                              801  2.475796e+09\n",
              "             Health                                    1218  3.635136e+09\n",
              "             Manufacturing                              875  2.695218e+09\n",
              "             News, Search and Messaging                1827  5.838996e+09\n",
              "             Others                                    3303  1.050651e+10\n",
              "             Social, Finance, Analytics, Advertising   2271  7.400493e+09"
            ]
          },
          "execution_count": 67,
          "metadata": {},
          "output_type": "execute_result"
        }
      ],
      "source": [
        "df4.groupby(['country_code', 'sector']).raised_amount_usd.agg(['count', 'sum'])"
      ]
    },
    {
      "cell_type": "markdown",
      "metadata": {
        "id": "LnE9GZIHgDXW"
      },
      "source": [
        "Let's plot sector-wise count and sum of investments in the these countries.\n"
      ]
    },
    {
      "cell_type": "code",
      "execution_count": null,
      "metadata": {
        "id": "SplMX4qggDXX",
        "outputId": "42890d32-7066-4178-f34b-fe50583e5f4d"
      },
      "outputs": [
        {
          "data": {
            "image/png": "[encoded data removed]",
            "text/plain": [
              "<Figure size 1224x1224 with 2 Axes>"
            ]
          },
          "metadata": {},
          "output_type": "display_data"
        }
      ],
      "source": [
        "plt.figure(figsize=(17, 17))\n",
        "\n",
        "plt.subplot(2, 1, 1)\n",
        "p = sns.barplot(x='sector', y='raised_amount_usd', hue='country_code', data=df4, estimator=np.sum)\n",
        "p.set_xticklabels(p.get_xticklabels(),rotation=30)\n",
        "plt.title('Total Invested Amount (USD)')\n",
        "plt.yscale('log')\n",
        "\n",
        "plt.subplot(2, 1, 2)\n",
        "q = sns.countplot(x='sector', hue='country_code', data=df4)\n",
        "q.set_xticklabels(q.get_xticklabels(),rotation=30)\n",
        "plt.title('Number of Investments')\n",
        "plt.yscale('log')\n",
        "\n",
        "\n",
        "plt.show()"
      ]
    },
    {
      "cell_type": "code",
      "execution_count": null,
      "metadata": {
        "id": "5KBbj7ZfgDXX"
      },
      "outputs": [],
      "source": []
    }
  ],
  "metadata": {
    "kernelspec": {
      "display_name": "Python 3",
      "language": "python",
      "name": "python3"
    },
    "language_info": {
      "codemirror_mode": {
        "name": "ipython",
        "version": 3
      },
      "file_extension": ".py",
      "mimetype": "text/x-python",
      "name": "python",
      "nbconvert_exporter": "python",
      "pygments_lexer": "ipython3",
      "version": "3.8.5"
    },
    "colab": {
      "provenance": [],
      "collapsed_sections": [
        "nwQ6Lkv0gDXK",
        "JtduiU0tgDXN",
        "ueG4sogbgDXO",
        "SMU10nS4gDXQ",
        "CrvvppHdgDXS"
      ],
      "include_colab_link": true
    }
  },
  "nbformat": 4,
  "nbformat_minor": 0
}